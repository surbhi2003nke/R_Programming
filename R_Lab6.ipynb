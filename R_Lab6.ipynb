{
  "nbformat": 4,
  "nbformat_minor": 0,
  "metadata": {
    "colab": {
      "provenance": [],
      "authorship_tag": "ABX9TyOm8t2GPXUwprdUKYZa6h/C",
      "include_colab_link": true
    },
    "kernelspec": {
      "name": "ir",
      "display_name": "R"
    },
    "language_info": {
      "name": "R"
    }
  },
  "cells": [
    {
      "cell_type": "markdown",
      "metadata": {
        "id": "view-in-github",
        "colab_type": "text"
      },
      "source": [
        "<a href=\"https://colab.research.google.com/github/surbhi2003nke/R_Programming/blob/main/R_Lab6.ipynb\" target=\"_parent\"><img src=\"https://colab.research.google.com/assets/colab-badge.svg\" alt=\"Open In Colab\"/></a>"
      ]
    },
    {
      "cell_type": "markdown",
      "source": [
        "# Centrality : Mean, Median, Mode"
      ],
      "metadata": {
        "id": "gTHyhLfHNeIr"
      }
    },
    {
      "cell_type": "code",
      "execution_count": null,
      "metadata": {
        "colab": {
          "base_uri": "https://localhost:8080/",
          "height": 34
        },
        "id": "gRwe2A10MQ3M",
        "outputId": "65ffec62-29b7-40cb-b597-b66795a6356b"
      },
      "outputs": [
        {
          "output_type": "display_data",
          "data": {
            "text/html": [
              "<style>\n",
              ".list-inline {list-style: none; margin:0; padding: 0}\n",
              ".list-inline>li {display: inline-block}\n",
              ".list-inline>li:not(:last-child)::after {content: \"\\00b7\"; padding: 0 .5ex}\n",
              "</style>\n",
              "<ol class=list-inline><li>2</li><li>4.4</li><li>4</li><li>2</li><li>3</li><li>3</li><li>2</li><li>2.2</li><li>2</li></ol>\n"
            ],
            "text/markdown": "1. 2\n2. 4.4\n3. 4\n4. 2\n5. 3\n6. 3\n7. 2\n8. 2.2\n9. 2\n\n\n",
            "text/latex": "\\begin{enumerate*}\n\\item 2\n\\item 4.4\n\\item 4\n\\item 2\n\\item 3\n\\item 3\n\\item 2\n\\item 2.2\n\\item 2\n\\end{enumerate*}\n",
            "text/plain": [
              "[1] 2.0 4.4 4.0 2.0 3.0 3.0 2.0 2.2 2.0"
            ]
          },
          "metadata": {}
        }
      ],
      "source": [
        "xdata <- c(2,4.4,4,2,3,3,2,2.2,2)\n",
        "xdata"
      ]
    },
    {
      "cell_type": "code",
      "source": [
        "m1<-mean(xdata)\n",
        "m1"
      ],
      "metadata": {
        "colab": {
          "base_uri": "https://localhost:8080/",
          "height": 34
        },
        "id": "cSbxMCIEM6o4",
        "outputId": "ac98b599-e50f-4127-88b4-8e4697ddd960"
      },
      "execution_count": null,
      "outputs": [
        {
          "output_type": "display_data",
          "data": {
            "text/html": [
              "2.73333333333333"
            ],
            "text/markdown": "2.73333333333333",
            "text/latex": "2.73333333333333",
            "text/plain": [
              "[1] 2.733333"
            ]
          },
          "metadata": {}
        }
      ]
    },
    {
      "cell_type": "code",
      "source": [
        "m2<-median(xdata)\n",
        "m2"
      ],
      "metadata": {
        "colab": {
          "base_uri": "https://localhost:8080/",
          "height": 34
        },
        "id": "cJYACjelM_ry",
        "outputId": "8dc8cd9c-d33d-4455-903e-fa1caafa2fbe"
      },
      "execution_count": null,
      "outputs": [
        {
          "output_type": "display_data",
          "data": {
            "text/html": [
              "2.2"
            ],
            "text/markdown": "2.2",
            "text/latex": "2.2",
            "text/plain": [
              "[1] 2.2"
            ]
          },
          "metadata": {}
        }
      ]
    },
    {
      "cell_type": "code",
      "source": [
        "m3<-mode(xdata)\n",
        "m3"
      ],
      "metadata": {
        "colab": {
          "base_uri": "https://localhost:8080/",
          "height": 34
        },
        "id": "S-RujMN2NDKm",
        "outputId": "a394216e-6001-428c-af73-ca57ec2b75d0"
      },
      "execution_count": null,
      "outputs": [
        {
          "output_type": "display_data",
          "data": {
            "text/html": [
              "'numeric'"
            ],
            "text/markdown": "'numeric'",
            "text/latex": "'numeric'",
            "text/plain": [
              "[1] \"numeric\""
            ]
          },
          "metadata": {}
        }
      ]
    },
    {
      "cell_type": "code",
      "source": [
        "xtable<-table(xdata)\n",
        "xtable"
      ],
      "metadata": {
        "colab": {
          "base_uri": "https://localhost:8080/",
          "height": 69
        },
        "id": "XxEIXELwNGMj",
        "outputId": "695a57e0-7e00-4cec-e721-a79ec3376809"
      },
      "execution_count": null,
      "outputs": [
        {
          "output_type": "display_data",
          "data": {
            "text/plain": [
              "xdata\n",
              "  2 2.2   3   4 4.4 \n",
              "  4   1   2   1   1 "
            ]
          },
          "metadata": {}
        }
      ]
    },
    {
      "cell_type": "code",
      "source": [
        "m4 <- max(xtable)\n",
        "m4"
      ],
      "metadata": {
        "colab": {
          "base_uri": "https://localhost:8080/",
          "height": 34
        },
        "id": "b2wjs35BNJvM",
        "outputId": "e62963dd-abe6-4820-a5a1-a0734cfe9b67"
      },
      "execution_count": null,
      "outputs": [
        {
          "output_type": "display_data",
          "data": {
            "text/html": [
              "4"
            ],
            "text/markdown": "4",
            "text/latex": "4",
            "text/plain": [
              "[1] 4"
            ]
          },
          "metadata": {}
        }
      ]
    },
    {
      "cell_type": "code",
      "source": [
        "m5 <- xtable[xtable == max(xtable)]\n",
        "m5"
      ],
      "metadata": {
        "colab": {
          "base_uri": "https://localhost:8080/",
          "height": 34
        },
        "id": "RvU5CUTfNPtD",
        "outputId": "c6b627d2-f9ac-4b8d-c473-5f5b7db4184a"
      },
      "execution_count": null,
      "outputs": [
        {
          "output_type": "display_data",
          "data": {
            "text/html": [
              "<strong>2:</strong> 4"
            ],
            "text/markdown": "**2:** 4",
            "text/latex": "\\textbf{2:} 4",
            "text/plain": [
              "2 \n",
              "4 "
            ]
          },
          "metadata": {}
        }
      ]
    },
    {
      "cell_type": "code",
      "source": [
        "data(\"chickwts\")"
      ],
      "metadata": {
        "id": "KaUoByC_NXv5"
      },
      "execution_count": null,
      "outputs": []
    },
    {
      "cell_type": "code",
      "source": [
        "head(chickwts)"
      ],
      "metadata": {
        "colab": {
          "base_uri": "https://localhost:8080/",
          "height": 286
        },
        "id": "hu0AOzOwNdx0",
        "outputId": "955534b7-b17d-4ea6-8bcb-2c8a9ad8c064"
      },
      "execution_count": null,
      "outputs": [
        {
          "output_type": "display_data",
          "data": {
            "text/html": [
              "<table class=\"dataframe\">\n",
              "<caption>A data.frame: 6 × 2</caption>\n",
              "<thead>\n",
              "\t<tr><th></th><th scope=col>weight</th><th scope=col>feed</th></tr>\n",
              "\t<tr><th></th><th scope=col>&lt;dbl&gt;</th><th scope=col>&lt;fct&gt;</th></tr>\n",
              "</thead>\n",
              "<tbody>\n",
              "\t<tr><th scope=row>1</th><td>179</td><td>horsebean</td></tr>\n",
              "\t<tr><th scope=row>2</th><td>160</td><td>horsebean</td></tr>\n",
              "\t<tr><th scope=row>3</th><td>136</td><td>horsebean</td></tr>\n",
              "\t<tr><th scope=row>4</th><td>227</td><td>horsebean</td></tr>\n",
              "\t<tr><th scope=row>5</th><td>217</td><td>horsebean</td></tr>\n",
              "\t<tr><th scope=row>6</th><td>168</td><td>horsebean</td></tr>\n",
              "</tbody>\n",
              "</table>\n"
            ],
            "text/markdown": "\nA data.frame: 6 × 2\n\n| <!--/--> | weight &lt;dbl&gt; | feed &lt;fct&gt; |\n|---|---|---|\n| 1 | 179 | horsebean |\n| 2 | 160 | horsebean |\n| 3 | 136 | horsebean |\n| 4 | 227 | horsebean |\n| 5 | 217 | horsebean |\n| 6 | 168 | horsebean |\n\n",
            "text/latex": "A data.frame: 6 × 2\n\\begin{tabular}{r|ll}\n  & weight & feed\\\\\n  & <dbl> & <fct>\\\\\n\\hline\n\t1 & 179 & horsebean\\\\\n\t2 & 160 & horsebean\\\\\n\t3 & 136 & horsebean\\\\\n\t4 & 227 & horsebean\\\\\n\t5 & 217 & horsebean\\\\\n\t6 & 168 & horsebean\\\\\n\\end{tabular}\n",
            "text/plain": [
              "  weight feed     \n",
              "1 179    horsebean\n",
              "2 160    horsebean\n",
              "3 136    horsebean\n",
              "4 227    horsebean\n",
              "5 217    horsebean\n",
              "6 168    horsebean"
            ]
          },
          "metadata": {}
        }
      ]
    },
    {
      "cell_type": "code",
      "source": [
        "unique(chickwts['feed'])"
      ],
      "metadata": {
        "colab": {
          "base_uri": "https://localhost:8080/",
          "height": 303
        },
        "id": "xLUfetj_NgqM",
        "outputId": "d91d14fb-e020-42c9-ab15-227760c510bf"
      },
      "execution_count": null,
      "outputs": [
        {
          "output_type": "display_data",
          "data": {
            "text/html": [
              "<table class=\"dataframe\">\n",
              "<caption>A data.frame: 6 × 1</caption>\n",
              "<thead>\n",
              "\t<tr><th></th><th scope=col>feed</th></tr>\n",
              "\t<tr><th></th><th scope=col>&lt;fct&gt;</th></tr>\n",
              "</thead>\n",
              "<tbody>\n",
              "\t<tr><th scope=row>1</th><td>horsebean</td></tr>\n",
              "\t<tr><th scope=row>11</th><td>linseed  </td></tr>\n",
              "\t<tr><th scope=row>23</th><td>soybean  </td></tr>\n",
              "\t<tr><th scope=row>37</th><td>sunflower</td></tr>\n",
              "\t<tr><th scope=row>49</th><td>meatmeal </td></tr>\n",
              "\t<tr><th scope=row>60</th><td>casein   </td></tr>\n",
              "</tbody>\n",
              "</table>\n"
            ],
            "text/markdown": "\nA data.frame: 6 × 1\n\n| <!--/--> | feed &lt;fct&gt; |\n|---|---|\n| 1 | horsebean |\n| 11 | linseed   |\n| 23 | soybean   |\n| 37 | sunflower |\n| 49 | meatmeal  |\n| 60 | casein    |\n\n",
            "text/latex": "A data.frame: 6 × 1\n\\begin{tabular}{r|l}\n  & feed\\\\\n  & <fct>\\\\\n\\hline\n\t1 & horsebean\\\\\n\t11 & linseed  \\\\\n\t23 & soybean  \\\\\n\t37 & sunflower\\\\\n\t49 & meatmeal \\\\\n\t60 & casein   \\\\\n\\end{tabular}\n",
            "text/plain": [
              "   feed     \n",
              "1  horsebean\n",
              "11 linseed  \n",
              "23 soybean  \n",
              "37 sunflower\n",
              "49 meatmeal \n",
              "60 casein   "
            ]
          },
          "metadata": {}
        }
      ]
    },
    {
      "cell_type": "code",
      "source": [
        "m1 <- mean(chickwts$weight)\n",
        "m1"
      ],
      "metadata": {
        "colab": {
          "base_uri": "https://localhost:8080/",
          "height": 34
        },
        "id": "8X73MASqNv7B",
        "outputId": "deb1746c-2d7c-4cc0-9cc5-858073fe81f1"
      },
      "execution_count": null,
      "outputs": [
        {
          "output_type": "display_data",
          "data": {
            "text/html": [
              "261.30985915493"
            ],
            "text/markdown": "261.30985915493",
            "text/latex": "261.30985915493",
            "text/plain": [
              "[1] 261.3099"
            ]
          },
          "metadata": {}
        }
      ]
    },
    {
      "cell_type": "code",
      "source": [
        "m2 <- median(chickwts$weight)\n",
        "m2"
      ],
      "metadata": {
        "colab": {
          "base_uri": "https://localhost:8080/",
          "height": 34
        },
        "id": "dU-K8vpHNzG_",
        "outputId": "1c97bf1a-d939-4004-8011-1d634eab2957"
      },
      "execution_count": null,
      "outputs": [
        {
          "output_type": "display_data",
          "data": {
            "text/html": [
              "258"
            ],
            "text/markdown": "258",
            "text/latex": "258",
            "text/plain": [
              "[1] 258"
            ]
          },
          "metadata": {}
        }
      ]
    },
    {
      "cell_type": "code",
      "source": [
        "tab<-table(chickwts$feed)"
      ],
      "metadata": {
        "id": "9RSmL9oEN4Hj"
      },
      "execution_count": null,
      "outputs": []
    },
    {
      "cell_type": "code",
      "source": [
        "m3 <- max(tab)\n",
        "m3"
      ],
      "metadata": {
        "colab": {
          "base_uri": "https://localhost:8080/",
          "height": 34
        },
        "id": "CfwsTZpkN8GJ",
        "outputId": "2171485c-5e5f-4176-8f02-df6ba983f62d"
      },
      "execution_count": null,
      "outputs": [
        {
          "output_type": "display_data",
          "data": {
            "text/html": [
              "14"
            ],
            "text/markdown": "14",
            "text/latex": "14",
            "text/plain": [
              "[1] 14"
            ]
          },
          "metadata": {}
        }
      ]
    },
    {
      "cell_type": "code",
      "source": [
        "m4 <- tab[tab==m3]\n",
        "m4"
      ],
      "metadata": {
        "colab": {
          "base_uri": "https://localhost:8080/",
          "height": 34
        },
        "id": "s2hWpK4IN_Z7",
        "outputId": "b1a7a756-4480-4000-d568-21d73c7844f2"
      },
      "execution_count": null,
      "outputs": [
        {
          "output_type": "display_data",
          "data": {
            "text/html": [
              "<strong>soybean:</strong> 14"
            ],
            "text/markdown": "**soybean:** 14",
            "text/latex": "\\textbf{soybean:} 14",
            "text/plain": [
              "soybean \n",
              "     14 "
            ]
          },
          "metadata": {}
        }
      ]
    },
    {
      "cell_type": "code",
      "source": [
        "data(\"quakes\")"
      ],
      "metadata": {
        "id": "561z9Ue5OEUX"
      },
      "execution_count": null,
      "outputs": []
    },
    {
      "cell_type": "code",
      "source": [
        "dim(quakes)"
      ],
      "metadata": {
        "colab": {
          "base_uri": "https://localhost:8080/",
          "height": 34
        },
        "id": "6UTxpDyPOIKE",
        "outputId": "22cdf08c-48cb-41d0-f6cc-479e887f7532"
      },
      "execution_count": null,
      "outputs": [
        {
          "output_type": "display_data",
          "data": {
            "text/html": [
              "<style>\n",
              ".list-inline {list-style: none; margin:0; padding: 0}\n",
              ".list-inline>li {display: inline-block}\n",
              ".list-inline>li:not(:last-child)::after {content: \"\\00b7\"; padding: 0 .5ex}\n",
              "</style>\n",
              "<ol class=list-inline><li>1000</li><li>5</li></ol>\n"
            ],
            "text/markdown": "1. 1000\n2. 5\n\n\n",
            "text/latex": "\\begin{enumerate*}\n\\item 1000\n\\item 5\n\\end{enumerate*}\n",
            "text/plain": [
              "[1] 1000    5"
            ]
          },
          "metadata": {}
        }
      ]
    },
    {
      "cell_type": "code",
      "source": [
        "head(quakes)"
      ],
      "metadata": {
        "colab": {
          "base_uri": "https://localhost:8080/",
          "height": 286
        },
        "id": "iwWat6YmOLKs",
        "outputId": "6f5f43b7-1cd1-4393-fa9c-b99f908eb3e7"
      },
      "execution_count": null,
      "outputs": [
        {
          "output_type": "display_data",
          "data": {
            "text/html": [
              "<table class=\"dataframe\">\n",
              "<caption>A data.frame: 6 × 5</caption>\n",
              "<thead>\n",
              "\t<tr><th></th><th scope=col>lat</th><th scope=col>long</th><th scope=col>depth</th><th scope=col>mag</th><th scope=col>stations</th></tr>\n",
              "\t<tr><th></th><th scope=col>&lt;dbl&gt;</th><th scope=col>&lt;dbl&gt;</th><th scope=col>&lt;int&gt;</th><th scope=col>&lt;dbl&gt;</th><th scope=col>&lt;int&gt;</th></tr>\n",
              "</thead>\n",
              "<tbody>\n",
              "\t<tr><th scope=row>1</th><td>-20.42</td><td>181.62</td><td>562</td><td>4.8</td><td>41</td></tr>\n",
              "\t<tr><th scope=row>2</th><td>-20.62</td><td>181.03</td><td>650</td><td>4.2</td><td>15</td></tr>\n",
              "\t<tr><th scope=row>3</th><td>-26.00</td><td>184.10</td><td> 42</td><td>5.4</td><td>43</td></tr>\n",
              "\t<tr><th scope=row>4</th><td>-17.97</td><td>181.66</td><td>626</td><td>4.1</td><td>19</td></tr>\n",
              "\t<tr><th scope=row>5</th><td>-20.42</td><td>181.96</td><td>649</td><td>4.0</td><td>11</td></tr>\n",
              "\t<tr><th scope=row>6</th><td>-19.68</td><td>184.31</td><td>195</td><td>4.0</td><td>12</td></tr>\n",
              "</tbody>\n",
              "</table>\n"
            ],
            "text/markdown": "\nA data.frame: 6 × 5\n\n| <!--/--> | lat &lt;dbl&gt; | long &lt;dbl&gt; | depth &lt;int&gt; | mag &lt;dbl&gt; | stations &lt;int&gt; |\n|---|---|---|---|---|---|\n| 1 | -20.42 | 181.62 | 562 | 4.8 | 41 |\n| 2 | -20.62 | 181.03 | 650 | 4.2 | 15 |\n| 3 | -26.00 | 184.10 |  42 | 5.4 | 43 |\n| 4 | -17.97 | 181.66 | 626 | 4.1 | 19 |\n| 5 | -20.42 | 181.96 | 649 | 4.0 | 11 |\n| 6 | -19.68 | 184.31 | 195 | 4.0 | 12 |\n\n",
            "text/latex": "A data.frame: 6 × 5\n\\begin{tabular}{r|lllll}\n  & lat & long & depth & mag & stations\\\\\n  & <dbl> & <dbl> & <int> & <dbl> & <int>\\\\\n\\hline\n\t1 & -20.42 & 181.62 & 562 & 4.8 & 41\\\\\n\t2 & -20.62 & 181.03 & 650 & 4.2 & 15\\\\\n\t3 & -26.00 & 184.10 &  42 & 5.4 & 43\\\\\n\t4 & -17.97 & 181.66 & 626 & 4.1 & 19\\\\\n\t5 & -20.42 & 181.96 & 649 & 4.0 & 11\\\\\n\t6 & -19.68 & 184.31 & 195 & 4.0 & 12\\\\\n\\end{tabular}\n",
            "text/plain": [
              "  lat    long   depth mag stations\n",
              "1 -20.42 181.62 562   4.8 41      \n",
              "2 -20.62 181.03 650   4.2 15      \n",
              "3 -26.00 184.10  42   5.4 43      \n",
              "4 -17.97 181.66 626   4.1 19      \n",
              "5 -20.42 181.96 649   4.0 11      \n",
              "6 -19.68 184.31 195   4.0 12      "
            ]
          },
          "metadata": {}
        }
      ]
    },
    {
      "cell_type": "code",
      "source": [
        "qtable <- table(quakes$mag)\n",
        "qtable"
      ],
      "metadata": {
        "colab": {
          "base_uri": "https://localhost:8080/",
          "height": 104
        },
        "id": "eL5qle8-OQu-",
        "outputId": "f47e853c-ffaf-4460-ae85-e6815aaa5b86"
      },
      "execution_count": null,
      "outputs": [
        {
          "output_type": "display_data",
          "data": {
            "text/plain": [
              "\n",
              "  4 4.1 4.2 4.3 4.4 4.5 4.6 4.7 4.8 4.9   5 5.1 5.2 5.3 5.4 5.5 5.6 5.7 5.9   6 \n",
              " 46  55  90  85 101 107 101  98  65  54  47  43  29  21  20  14   9   8   2   3 \n",
              "6.1 6.4 \n",
              "  1   1 "
            ]
          },
          "metadata": {}
        }
      ]
    },
    {
      "cell_type": "code",
      "source": [
        "q.max <- max(qtable)\n",
        "q.max"
      ],
      "metadata": {
        "colab": {
          "base_uri": "https://localhost:8080/",
          "height": 34
        },
        "id": "3znGEB-hOX_b",
        "outputId": "b2e65437-1ff3-429e-b358-82605d7d3dd7"
      },
      "execution_count": null,
      "outputs": [
        {
          "output_type": "display_data",
          "data": {
            "text/html": [
              "107"
            ],
            "text/markdown": "107",
            "text/latex": "107",
            "text/plain": [
              "[1] 107"
            ]
          },
          "metadata": {}
        }
      ]
    },
    {
      "cell_type": "code",
      "source": [
        "q.mode <- qtable[qtable == q.max]\n",
        "q.mode"
      ],
      "metadata": {
        "colab": {
          "base_uri": "https://localhost:8080/",
          "height": 34
        },
        "id": "TUDbNJ5OOchJ",
        "outputId": "ecd55270-c13c-467a-c2d3-0bfb68d14155"
      },
      "execution_count": null,
      "outputs": [
        {
          "output_type": "display_data",
          "data": {
            "text/html": [
              "<strong>4.5:</strong> 107"
            ],
            "text/markdown": "**4.5:** 107",
            "text/latex": "\\textbf{4.5:} 107",
            "text/plain": [
              "4.5 \n",
              "107 "
            ]
          },
          "metadata": {}
        }
      ]
    },
    {
      "cell_type": "code",
      "source": [
        "mean(c(1,4,NA))"
      ],
      "metadata": {
        "colab": {
          "base_uri": "https://localhost:8080/",
          "height": 34
        },
        "id": "XjbX3xmTOp8O",
        "outputId": "d708a03c-c45b-4a5d-a883-4a34031f622c"
      },
      "execution_count": null,
      "outputs": [
        {
          "output_type": "display_data",
          "data": {
            "text/html": [
              "&lt;NA&gt;"
            ],
            "text/markdown": "&lt;NA&gt;",
            "text/latex": "<NA>",
            "text/plain": [
              "[1] NA"
            ]
          },
          "metadata": {}
        }
      ]
    },
    {
      "cell_type": "code",
      "source": [
        "mean(c(1,4,NaN))"
      ],
      "metadata": {
        "colab": {
          "base_uri": "https://localhost:8080/",
          "height": 34
        },
        "id": "JR2f_j9QPIrn",
        "outputId": "cf7dd424-f3b4-44a9-eed5-0bafe923122a"
      },
      "execution_count": null,
      "outputs": [
        {
          "output_type": "display_data",
          "data": {
            "text/html": [
              "NaN"
            ],
            "text/markdown": "NaN",
            "text/latex": "NaN",
            "text/plain": [
              "[1] NaN"
            ]
          },
          "metadata": {}
        }
      ]
    },
    {
      "cell_type": "code",
      "source": [
        "mean(c(1,4,NaN), na.rm = TRUE)"
      ],
      "metadata": {
        "colab": {
          "base_uri": "https://localhost:8080/",
          "height": 34
        },
        "id": "zXLIyT-YPOcd",
        "outputId": "d13c7445-7aec-4558-fc5e-a92c534b90de"
      },
      "execution_count": null,
      "outputs": [
        {
          "output_type": "display_data",
          "data": {
            "text/html": [
              "2.5"
            ],
            "text/markdown": "2.5",
            "text/latex": "2.5",
            "text/plain": [
              "[1] 2.5"
            ]
          },
          "metadata": {}
        }
      ]
    },
    {
      "cell_type": "code",
      "source": [
        "unique(chickwts$feed)"
      ],
      "metadata": {
        "colab": {
          "base_uri": "https://localhost:8080/",
          "height": 52
        },
        "id": "FweStYcbPRxu",
        "outputId": "7a7b519a-08d2-4109-ed19-f7d8b4b65561"
      },
      "execution_count": null,
      "outputs": [
        {
          "output_type": "display_data",
          "data": {
            "text/html": [
              "<style>\n",
              ".list-inline {list-style: none; margin:0; padding: 0}\n",
              ".list-inline>li {display: inline-block}\n",
              ".list-inline>li:not(:last-child)::after {content: \"\\00b7\"; padding: 0 .5ex}\n",
              "</style>\n",
              "<ol class=list-inline><li>horsebean</li><li>linseed</li><li>soybean</li><li>sunflower</li><li>meatmeal</li><li>casein</li></ol>\n",
              "\n",
              "<details>\n",
              "\t<summary style=display:list-item;cursor:pointer>\n",
              "\t\t<strong>Levels</strong>:\n",
              "\t</summary>\n",
              "\t<style>\n",
              "\t.list-inline {list-style: none; margin:0; padding: 0}\n",
              "\t.list-inline>li {display: inline-block}\n",
              "\t.list-inline>li:not(:last-child)::after {content: \"\\00b7\"; padding: 0 .5ex}\n",
              "\t</style>\n",
              "\t<ol class=list-inline><li>'casein'</li><li>'horsebean'</li><li>'linseed'</li><li>'meatmeal'</li><li>'soybean'</li><li>'sunflower'</li></ol>\n",
              "</details>"
            ],
            "text/markdown": "1. horsebean\n2. linseed\n3. soybean\n4. sunflower\n5. meatmeal\n6. casein\n\n\n\n**Levels**: 1. 'casein'\n2. 'horsebean'\n3. 'linseed'\n4. 'meatmeal'\n5. 'soybean'\n6. 'sunflower'\n\n\n",
            "text/latex": "\\begin{enumerate*}\n\\item horsebean\n\\item linseed\n\\item soybean\n\\item sunflower\n\\item meatmeal\n\\item casein\n\\end{enumerate*}\n\n\\emph{Levels}: \\begin{enumerate*}\n\\item 'casein'\n\\item 'horsebean'\n\\item 'linseed'\n\\item 'meatmeal'\n\\item 'soybean'\n\\item 'sunflower'\n\\end{enumerate*}\n",
            "text/plain": [
              "[1] horsebean linseed   soybean   sunflower meatmeal  casein   \n",
              "Levels: casein horsebean linseed meatmeal soybean sunflower"
            ]
          },
          "metadata": {}
        }
      ]
    },
    {
      "cell_type": "code",
      "source": [
        "length(unique(chickwts$feed))"
      ],
      "metadata": {
        "colab": {
          "base_uri": "https://localhost:8080/",
          "height": 34
        },
        "id": "xSjf3dIePZDY",
        "outputId": "7653684a-f9d6-44a9-ec89-8da96a0e8380"
      },
      "execution_count": null,
      "outputs": [
        {
          "output_type": "display_data",
          "data": {
            "text/html": [
              "6"
            ],
            "text/markdown": "6",
            "text/latex": "6",
            "text/plain": [
              "[1] 6"
            ]
          },
          "metadata": {}
        }
      ]
    },
    {
      "cell_type": "code",
      "source": [
        "chickwts[chickwts$feed==\"casein\",]"
      ],
      "metadata": {
        "colab": {
          "base_uri": "https://localhost:8080/",
          "height": 474
        },
        "id": "2ycZDVNxPdwL",
        "outputId": "0a68d345-b303-4fc8-d98d-d53a701a10b1"
      },
      "execution_count": null,
      "outputs": [
        {
          "output_type": "display_data",
          "data": {
            "text/html": [
              "<table class=\"dataframe\">\n",
              "<caption>A data.frame: 12 × 2</caption>\n",
              "<thead>\n",
              "\t<tr><th></th><th scope=col>weight</th><th scope=col>feed</th></tr>\n",
              "\t<tr><th></th><th scope=col>&lt;dbl&gt;</th><th scope=col>&lt;fct&gt;</th></tr>\n",
              "</thead>\n",
              "<tbody>\n",
              "\t<tr><th scope=row>60</th><td>368</td><td>casein</td></tr>\n",
              "\t<tr><th scope=row>61</th><td>390</td><td>casein</td></tr>\n",
              "\t<tr><th scope=row>62</th><td>379</td><td>casein</td></tr>\n",
              "\t<tr><th scope=row>63</th><td>260</td><td>casein</td></tr>\n",
              "\t<tr><th scope=row>64</th><td>404</td><td>casein</td></tr>\n",
              "\t<tr><th scope=row>65</th><td>318</td><td>casein</td></tr>\n",
              "\t<tr><th scope=row>66</th><td>352</td><td>casein</td></tr>\n",
              "\t<tr><th scope=row>67</th><td>359</td><td>casein</td></tr>\n",
              "\t<tr><th scope=row>68</th><td>216</td><td>casein</td></tr>\n",
              "\t<tr><th scope=row>69</th><td>222</td><td>casein</td></tr>\n",
              "\t<tr><th scope=row>70</th><td>283</td><td>casein</td></tr>\n",
              "\t<tr><th scope=row>71</th><td>332</td><td>casein</td></tr>\n",
              "</tbody>\n",
              "</table>\n"
            ],
            "text/markdown": "\nA data.frame: 12 × 2\n\n| <!--/--> | weight &lt;dbl&gt; | feed &lt;fct&gt; |\n|---|---|---|\n| 60 | 368 | casein |\n| 61 | 390 | casein |\n| 62 | 379 | casein |\n| 63 | 260 | casein |\n| 64 | 404 | casein |\n| 65 | 318 | casein |\n| 66 | 352 | casein |\n| 67 | 359 | casein |\n| 68 | 216 | casein |\n| 69 | 222 | casein |\n| 70 | 283 | casein |\n| 71 | 332 | casein |\n\n",
            "text/latex": "A data.frame: 12 × 2\n\\begin{tabular}{r|ll}\n  & weight & feed\\\\\n  & <dbl> & <fct>\\\\\n\\hline\n\t60 & 368 & casein\\\\\n\t61 & 390 & casein\\\\\n\t62 & 379 & casein\\\\\n\t63 & 260 & casein\\\\\n\t64 & 404 & casein\\\\\n\t65 & 318 & casein\\\\\n\t66 & 352 & casein\\\\\n\t67 & 359 & casein\\\\\n\t68 & 216 & casein\\\\\n\t69 & 222 & casein\\\\\n\t70 & 283 & casein\\\\\n\t71 & 332 & casein\\\\\n\\end{tabular}\n",
            "text/plain": [
              "   weight feed  \n",
              "60 368    casein\n",
              "61 390    casein\n",
              "62 379    casein\n",
              "63 260    casein\n",
              "64 404    casein\n",
              "65 318    casein\n",
              "66 352    casein\n",
              "67 359    casein\n",
              "68 216    casein\n",
              "69 222    casein\n",
              "70 283    casein\n",
              "71 332    casein"
            ]
          },
          "metadata": {}
        }
      ]
    },
    {
      "cell_type": "code",
      "source": [
        "chickwts$weight[chickwts$feed=='casein']"
      ],
      "metadata": {
        "colab": {
          "base_uri": "https://localhost:8080/",
          "height": 34
        },
        "id": "JFoDzHOhPg2e",
        "outputId": "a1b4020a-30b3-4f3c-846c-6cf87a61488f"
      },
      "execution_count": null,
      "outputs": [
        {
          "output_type": "display_data",
          "data": {
            "text/html": [
              "<style>\n",
              ".list-inline {list-style: none; margin:0; padding: 0}\n",
              ".list-inline>li {display: inline-block}\n",
              ".list-inline>li:not(:last-child)::after {content: \"\\00b7\"; padding: 0 .5ex}\n",
              "</style>\n",
              "<ol class=list-inline><li>368</li><li>390</li><li>379</li><li>260</li><li>404</li><li>318</li><li>352</li><li>359</li><li>216</li><li>222</li><li>283</li><li>332</li></ol>\n"
            ],
            "text/markdown": "1. 368\n2. 390\n3. 379\n4. 260\n5. 404\n6. 318\n7. 352\n8. 359\n9. 216\n10. 222\n11. 283\n12. 332\n\n\n",
            "text/latex": "\\begin{enumerate*}\n\\item 368\n\\item 390\n\\item 379\n\\item 260\n\\item 404\n\\item 318\n\\item 352\n\\item 359\n\\item 216\n\\item 222\n\\item 283\n\\item 332\n\\end{enumerate*}\n",
            "text/plain": [
              " [1] 368 390 379 260 404 318 352 359 216 222 283 332"
            ]
          },
          "metadata": {}
        }
      ]
    },
    {
      "cell_type": "code",
      "source": [
        "mean(chickwts$weight[chickwts$feed=='casein'])"
      ],
      "metadata": {
        "colab": {
          "base_uri": "https://localhost:8080/",
          "height": 34
        },
        "id": "01F-jIlIPvwr",
        "outputId": "36c7ff67-ab1b-49bb-fa6c-3c062cd45ad5"
      },
      "execution_count": null,
      "outputs": [
        {
          "output_type": "display_data",
          "data": {
            "text/html": [
              "323.583333333333"
            ],
            "text/markdown": "323.583333333333",
            "text/latex": "323.583333333333",
            "text/plain": [
              "[1] 323.5833"
            ]
          },
          "metadata": {}
        }
      ]
    },
    {
      "cell_type": "code",
      "source": [
        "print(mean(chickwts$weight[chickwts$feed=='casein']))\n",
        "print(mean(chickwts$weight[chickwts$feed=='horsebean']))\n",
        "print(mean(chickwts$weight[chickwts$feed=='linseed']))\n",
        "print(mean(chickwts$weight[chickwts$feed=='meatmeal']))\n",
        "print(mean(chickwts$weight[chickwts$feed=='soybean']))\n",
        "print(mean(chickwts$weight[chickwts$feed=='sunflower']))"
      ],
      "metadata": {
        "colab": {
          "base_uri": "https://localhost:8080/"
        },
        "id": "TMZ--SGlPqQ9",
        "outputId": "e1f93af3-8fbc-4a70-e7de-738de706fc88"
      },
      "execution_count": null,
      "outputs": [
        {
          "output_type": "stream",
          "name": "stdout",
          "text": [
            "[1] 323.5833\n",
            "[1] 160.2\n",
            "[1] 218.75\n",
            "[1] 276.9091\n",
            "[1] 246.4286\n",
            "[1] 328.9167\n"
          ]
        }
      ]
    },
    {
      "cell_type": "code",
      "source": [
        "tapply(chickwts$weight, INDEX=chickwts$feed, FUN=mean)"
      ],
      "metadata": {
        "colab": {
          "base_uri": "https://localhost:8080/",
          "height": 52
        },
        "id": "IJVOiceIQFuC",
        "outputId": "5bdfbee1-58a8-4c09-add0-06019af2c505"
      },
      "execution_count": null,
      "outputs": [
        {
          "output_type": "display_data",
          "data": {
            "text/html": [
              "<style>\n",
              ".dl-inline {width: auto; margin:0; padding: 0}\n",
              ".dl-inline>dt, .dl-inline>dd {float: none; width: auto; display: inline-block}\n",
              ".dl-inline>dt::after {content: \":\\0020\"; padding-right: .5ex}\n",
              ".dl-inline>dt:not(:first-of-type) {padding-left: .5ex}\n",
              "</style><dl class=dl-inline><dt>casein</dt><dd>323.583333333333</dd><dt>horsebean</dt><dd>160.2</dd><dt>linseed</dt><dd>218.75</dd><dt>meatmeal</dt><dd>276.909090909091</dd><dt>soybean</dt><dd>246.428571428571</dd><dt>sunflower</dt><dd>328.916666666667</dd></dl>\n"
            ],
            "text/markdown": "casein\n:   323.583333333333horsebean\n:   160.2linseed\n:   218.75meatmeal\n:   276.909090909091soybean\n:   246.428571428571sunflower\n:   328.916666666667\n\n",
            "text/latex": "\\begin{description*}\n\\item[casein] 323.583333333333\n\\item[horsebean] 160.2\n\\item[linseed] 218.75\n\\item[meatmeal] 276.909090909091\n\\item[soybean] 246.428571428571\n\\item[sunflower] 328.916666666667\n\\end{description*}\n",
            "text/plain": [
              "   casein horsebean   linseed  meatmeal   soybean sunflower \n",
              " 323.5833  160.2000  218.7500  276.9091  246.4286  328.9167 "
            ]
          },
          "metadata": {}
        }
      ]
    },
    {
      "cell_type": "code",
      "source": [
        "sum(chickwts$feed=='soybean')/nrow(chickwts)"
      ],
      "metadata": {
        "colab": {
          "base_uri": "https://localhost:8080/",
          "height": 34
        },
        "id": "_DnF5RIxQQT-",
        "outputId": "a403c708-e5ce-4b32-da44-bc7147f67340"
      },
      "execution_count": null,
      "outputs": [
        {
          "output_type": "display_data",
          "data": {
            "text/html": [
              "0.197183098591549"
            ],
            "text/markdown": "0.197183098591549",
            "text/latex": "0.197183098591549",
            "text/plain": [
              "[1] 0.1971831"
            ]
          },
          "metadata": {}
        }
      ]
    },
    {
      "cell_type": "code",
      "source": [
        "mean(chickwts$feed=='soybean')"
      ],
      "metadata": {
        "colab": {
          "base_uri": "https://localhost:8080/",
          "height": 34
        },
        "id": "2JRaePryQWxP",
        "outputId": "2659ebb9-a863-4a54-9606-13fb5c9ea0bd"
      },
      "execution_count": null,
      "outputs": [
        {
          "output_type": "display_data",
          "data": {
            "text/html": [
              "0.197183098591549"
            ],
            "text/markdown": "0.197183098591549",
            "text/latex": "0.197183098591549",
            "text/plain": [
              "[1] 0.1971831"
            ]
          },
          "metadata": {}
        }
      ]
    },
    {
      "cell_type": "code",
      "source": [
        "round(table(chickwts$feed)/nrow(chickwts), digits = 3)"
      ],
      "metadata": {
        "colab": {
          "base_uri": "https://localhost:8080/",
          "height": 69
        },
        "id": "1z30atU4QZ6q",
        "outputId": "858c5368-0e35-44e2-c308-833ae6f42769"
      },
      "execution_count": null,
      "outputs": [
        {
          "output_type": "display_data",
          "data": {
            "text/plain": [
              "\n",
              "   casein horsebean   linseed  meatmeal   soybean sunflower \n",
              "    0.169     0.141     0.169     0.155     0.197     0.169 "
            ]
          },
          "metadata": {}
        }
      ]
    },
    {
      "cell_type": "code",
      "source": [
        "round(mean(chickwts$feed=='linseed'), digits =1)"
      ],
      "metadata": {
        "colab": {
          "base_uri": "https://localhost:8080/",
          "height": 34
        },
        "id": "78xyONzzRB53",
        "outputId": "cdb1e1a9-70e2-468d-dc26-c091be92b89d"
      },
      "execution_count": null,
      "outputs": [
        {
          "output_type": "display_data",
          "data": {
            "text/html": [
              "0.2"
            ],
            "text/markdown": "0.2",
            "text/latex": "0.2",
            "text/plain": [
              "[1] 0.2"
            ]
          },
          "metadata": {}
        }
      ]
    },
    {
      "cell_type": "code",
      "source": [
        "round(mean(chickwts$feed=='linseed')*100, digits =1)"
      ],
      "metadata": {
        "colab": {
          "base_uri": "https://localhost:8080/",
          "height": 34
        },
        "id": "T9UYBP6gRGfI",
        "outputId": "f30b3661-6641-4db3-faed-ed1b279a375a"
      },
      "execution_count": null,
      "outputs": [
        {
          "output_type": "display_data",
          "data": {
            "text/html": [
              "16.9"
            ],
            "text/markdown": "16.9",
            "text/latex": "16.9",
            "text/plain": [
              "[1] 16.9"
            ]
          },
          "metadata": {}
        }
      ]
    },
    {
      "cell_type": "markdown",
      "source": [
        "# Counts, Percentage and Proportions"
      ],
      "metadata": {
        "id": "2rK1ILpjNpBS"
      }
    },
    {
      "cell_type": "code",
      "source": [
        "table(chickwts$feed)"
      ],
      "metadata": {
        "colab": {
          "base_uri": "https://localhost:8080/",
          "height": 69
        },
        "id": "Etk_4DqLNvuh",
        "outputId": "7e43aa1b-8ce3-44bf-fcc6-a9973fcd647a"
      },
      "execution_count": null,
      "outputs": [
        {
          "output_type": "display_data",
          "data": {
            "text/plain": [
              "\n",
              "   casein horsebean   linseed  meatmeal   soybean sunflower \n",
              "       12        10        12        11        14        12 "
            ]
          },
          "metadata": {}
        }
      ]
    },
    {
      "cell_type": "code",
      "source": [
        "table(chickwts$feed)/nrow(chickwts)"
      ],
      "metadata": {
        "colab": {
          "base_uri": "https://localhost:8080/",
          "height": 69
        },
        "id": "aIDW4O_yN6FN",
        "outputId": "c3e5b620-b299-47e3-b0b9-f3309c5e9245"
      },
      "execution_count": null,
      "outputs": [
        {
          "output_type": "display_data",
          "data": {
            "text/plain": [
              "\n",
              "   casein horsebean   linseed  meatmeal   soybean sunflower \n",
              "0.1690141 0.1408451 0.1690141 0.1549296 0.1971831 0.1690141 "
            ]
          },
          "metadata": {}
        }
      ]
    },
    {
      "cell_type": "code",
      "source": [
        "sum(chickwts$feed==\"soybean\")/nrow(chickwts)"
      ],
      "metadata": {
        "colab": {
          "base_uri": "https://localhost:8080/",
          "height": 34
        },
        "id": "FI_h_RGiN9S1",
        "outputId": "4e59937a-06bb-4dce-8a3b-3ab50b441c8c"
      },
      "execution_count": null,
      "outputs": [
        {
          "output_type": "display_data",
          "data": {
            "text/html": [
              "0.197183098591549"
            ],
            "text/markdown": "0.197183098591549",
            "text/latex": "0.197183098591549",
            "text/plain": [
              "[1] 0.1971831"
            ]
          },
          "metadata": {}
        }
      ]
    },
    {
      "cell_type": "code",
      "source": [
        "mean(chickwts$feed==\"soybean\")"
      ],
      "metadata": {
        "colab": {
          "base_uri": "https://localhost:8080/",
          "height": 34
        },
        "id": "kvucOnsoOBk5",
        "outputId": "c9e6374b-26d6-4942-9a07-233ec7aabccb"
      },
      "execution_count": null,
      "outputs": [
        {
          "output_type": "display_data",
          "data": {
            "text/html": [
              "0.197183098591549"
            ],
            "text/markdown": "0.197183098591549",
            "text/latex": "0.197183098591549",
            "text/plain": [
              "[1] 0.1971831"
            ]
          },
          "metadata": {}
        }
      ]
    },
    {
      "cell_type": "code",
      "source": [
        "mean(chickwts$feed==\"soybean\"|chickwts$feed==\"horsebean\")"
      ],
      "metadata": {
        "colab": {
          "base_uri": "https://localhost:8080/",
          "height": 34
        },
        "id": "yMx4w1NmOEul",
        "outputId": "84894980-1949-4bfc-aea9-c677aaa3b529"
      },
      "execution_count": null,
      "outputs": [
        {
          "output_type": "display_data",
          "data": {
            "text/html": [
              "0.338028169014085"
            ],
            "text/markdown": "0.338028169014085",
            "text/latex": "0.338028169014085",
            "text/plain": [
              "[1] 0.3380282"
            ]
          },
          "metadata": {}
        }
      ]
    },
    {
      "cell_type": "code",
      "source": [
        "tapply(chickwts$weight,INDEX=chickwts$feed, FUN=function(x) length(x)/nrow(chickwts))"
      ],
      "metadata": {
        "colab": {
          "base_uri": "https://localhost:8080/",
          "height": 69
        },
        "id": "VsOC7i4COOiN",
        "outputId": "e09cc016-bf7f-416a-cb15-7427d2423cc7"
      },
      "execution_count": null,
      "outputs": [
        {
          "output_type": "display_data",
          "data": {
            "text/html": [
              "<style>\n",
              ".dl-inline {width: auto; margin:0; padding: 0}\n",
              ".dl-inline>dt, .dl-inline>dd {float: none; width: auto; display: inline-block}\n",
              ".dl-inline>dt::after {content: \":\\0020\"; padding-right: .5ex}\n",
              ".dl-inline>dt:not(:first-of-type) {padding-left: .5ex}\n",
              "</style><dl class=dl-inline><dt>casein</dt><dd>0.169014084507042</dd><dt>horsebean</dt><dd>0.140845070422535</dd><dt>linseed</dt><dd>0.169014084507042</dd><dt>meatmeal</dt><dd>0.154929577464789</dd><dt>soybean</dt><dd>0.197183098591549</dd><dt>sunflower</dt><dd>0.169014084507042</dd></dl>\n"
            ],
            "text/markdown": "casein\n:   0.169014084507042horsebean\n:   0.140845070422535linseed\n:   0.169014084507042meatmeal\n:   0.154929577464789soybean\n:   0.197183098591549sunflower\n:   0.169014084507042\n\n",
            "text/latex": "\\begin{description*}\n\\item[casein] 0.169014084507042\n\\item[horsebean] 0.140845070422535\n\\item[linseed] 0.169014084507042\n\\item[meatmeal] 0.154929577464789\n\\item[soybean] 0.197183098591549\n\\item[sunflower] 0.169014084507042\n\\end{description*}\n",
            "text/plain": [
              "   casein horsebean   linseed  meatmeal   soybean sunflower \n",
              "0.1690141 0.1408451 0.1690141 0.1549296 0.1971831 0.1690141 "
            ]
          },
          "metadata": {}
        }
      ]
    },
    {
      "cell_type": "code",
      "source": [
        "round(table(chickwts$feed)/nrow(chickwts),digits=3)"
      ],
      "metadata": {
        "colab": {
          "base_uri": "https://localhost:8080/",
          "height": 69
        },
        "id": "6n75NHasOVrH",
        "outputId": "f1efd8aa-5d0c-4b17-bd39-c178e06cf11b"
      },
      "execution_count": null,
      "outputs": [
        {
          "output_type": "display_data",
          "data": {
            "text/plain": [
              "\n",
              "   casein horsebean   linseed  meatmeal   soybean sunflower \n",
              "    0.169     0.141     0.169     0.155     0.197     0.169 "
            ]
          },
          "metadata": {}
        }
      ]
    },
    {
      "cell_type": "code",
      "source": [
        "round(mean(chickwts$feed==\"soybean\")*100,1)"
      ],
      "metadata": {
        "colab": {
          "base_uri": "https://localhost:8080/",
          "height": 34
        },
        "id": "D3FUviojOXFu",
        "outputId": "617f054c-159b-45bc-dd28-b9b24b71460a"
      },
      "execution_count": null,
      "outputs": [
        {
          "output_type": "display_data",
          "data": {
            "text/html": [
              "19.7"
            ],
            "text/markdown": "19.7",
            "text/latex": "19.7",
            "text/plain": [
              "[1] 19.7"
            ]
          },
          "metadata": {}
        }
      ]
    },
    {
      "cell_type": "markdown",
      "source": [
        "# Exercise 13.2"
      ],
      "metadata": {
        "id": "d216KTWCYyNc"
      }
    },
    {
      "cell_type": "markdown",
      "source": [
        "1)\tObtain, rounded to two decimal places, the proportion of seismic events in the quakes data frame that occurred at a depth of 300 km or deeper."
      ],
      "metadata": {
        "id": "XxF2EFnHS5LZ"
      }
    },
    {
      "cell_type": "code",
      "source": [
        "round(nrow(quakes[quakes$depth >= 300,])/ nrow(quakes) ,digits=2)"
      ],
      "metadata": {
        "colab": {
          "base_uri": "https://localhost:8080/",
          "height": 34
        },
        "id": "qHdD49oBSw9h",
        "outputId": "5414ac35-9b69-4d94-eb3c-7a0b01f8fabb"
      },
      "execution_count": null,
      "outputs": [
        {
          "output_type": "display_data",
          "data": {
            "text/html": [
              "0.45"
            ],
            "text/markdown": "0.45",
            "text/latex": "0.45",
            "text/plain": [
              "[1] 0.45"
            ]
          },
          "metadata": {}
        }
      ]
    },
    {
      "cell_type": "markdown",
      "source": [
        "2)\tRemaining with the quakes data set, calculate the mean and median of magnitudes of the events that occurred at a depth of 300 km or deeper."
      ],
      "metadata": {
        "id": "UhLklw6iS-YY"
      }
    },
    {
      "cell_type": "code",
      "source": [
        "mean(quakes[quakes$depth >= 300, 'mag'])"
      ],
      "metadata": {
        "colab": {
          "base_uri": "https://localhost:8080/",
          "height": 34
        },
        "id": "QG-gphB_SZSk",
        "outputId": "8cb5ae04-f54c-404d-b150-856b90bffc6f"
      },
      "execution_count": null,
      "outputs": [
        {
          "output_type": "display_data",
          "data": {
            "text/html": [
              "4.52737306843267"
            ],
            "text/markdown": "4.52737306843267",
            "text/latex": "4.52737306843267",
            "text/plain": [
              "[1] 4.527373"
            ]
          },
          "metadata": {}
        }
      ]
    },
    {
      "cell_type": "code",
      "source": [
        "round(mean(quakes[quakes$depth >= 300, 'mag']), digits=2)"
      ],
      "metadata": {
        "colab": {
          "base_uri": "https://localhost:8080/",
          "height": 34
        },
        "id": "twM_jh1WSc7H",
        "outputId": "fe8a1beb-7db9-44b1-eab2-a664c2f3dcca"
      },
      "execution_count": null,
      "outputs": [
        {
          "output_type": "display_data",
          "data": {
            "text/html": [
              "4.53"
            ],
            "text/markdown": "4.53",
            "text/latex": "4.53",
            "text/plain": [
              "[1] 4.53"
            ]
          },
          "metadata": {}
        }
      ]
    },
    {
      "cell_type": "code",
      "source": [
        "median(quakes[quakes$depth >= 300, 'mag'])"
      ],
      "metadata": {
        "colab": {
          "base_uri": "https://localhost:8080/",
          "height": 34
        },
        "id": "actR8qjsSkTn",
        "outputId": "24206cc2-7f39-4308-cbbc-6212d2f7e1b1"
      },
      "execution_count": null,
      "outputs": [
        {
          "output_type": "display_data",
          "data": {
            "text/html": [
              "4.5"
            ],
            "text/markdown": "4.5",
            "text/latex": "4.5",
            "text/plain": [
              "[1] 4.5"
            ]
          },
          "metadata": {}
        }
      ]
    },
    {
      "cell_type": "markdown",
      "source": [
        "3)\tUsing the chickwts data set, write a for loop that gives you the mean weight of chicks for each feed type – the same as the results given by the tapply function. display the rounded to one decimal place and when printing, ensure each mean is labelled either appropriate feed type."
      ],
      "metadata": {
        "id": "G8GNXcUOTFlE"
      }
    },
    {
      "cell_type": "code",
      "source": [
        "round(tapply(chickwts$weight, INDEX=chickwts$feed, FUN=mean), digits=1)"
      ],
      "metadata": {
        "colab": {
          "base_uri": "https://localhost:8080/",
          "height": 52
        },
        "id": "mV5pghbwSntv",
        "outputId": "c17f5e1c-752b-403f-890e-a0a64520070d"
      },
      "execution_count": null,
      "outputs": [
        {
          "output_type": "display_data",
          "data": {
            "text/html": [
              "<style>\n",
              ".dl-inline {width: auto; margin:0; padding: 0}\n",
              ".dl-inline>dt, .dl-inline>dd {float: none; width: auto; display: inline-block}\n",
              ".dl-inline>dt::after {content: \":\\0020\"; padding-right: .5ex}\n",
              ".dl-inline>dt:not(:first-of-type) {padding-left: .5ex}\n",
              "</style><dl class=dl-inline><dt>casein</dt><dd>323.6</dd><dt>horsebean</dt><dd>160.2</dd><dt>linseed</dt><dd>218.8</dd><dt>meatmeal</dt><dd>276.9</dd><dt>soybean</dt><dd>246.4</dd><dt>sunflower</dt><dd>328.9</dd></dl>\n"
            ],
            "text/markdown": "casein\n:   323.6horsebean\n:   160.2linseed\n:   218.8meatmeal\n:   276.9soybean\n:   246.4sunflower\n:   328.9\n\n",
            "text/latex": "\\begin{description*}\n\\item[casein] 323.6\n\\item[horsebean] 160.2\n\\item[linseed] 218.8\n\\item[meatmeal] 276.9\n\\item[soybean] 246.4\n\\item[sunflower] 328.9\n\\end{description*}\n",
            "text/plain": [
              "   casein horsebean   linseed  meatmeal   soybean sunflower \n",
              "    323.6     160.2     218.8     276.9     246.4     328.9 "
            ]
          },
          "metadata": {}
        }
      ]
    },
    {
      "cell_type": "code",
      "source": [
        "feed_types <- unique(chickwts$feed)\n",
        "for(i in 1:length(feed_types))\n",
        "{\n",
        "     mean_wt <- mean(chickwts[chickwts$feed==feed_types[i], 'weight'])\n",
        "     print(round(mean_wt, 1))\n",
        "}"
      ],
      "metadata": {
        "colab": {
          "base_uri": "https://localhost:8080/"
        },
        "id": "ku2OxkNgTmVy",
        "outputId": "16e413aa-6573-4904-d80e-f816f3ede9fc"
      },
      "execution_count": null,
      "outputs": [
        {
          "output_type": "stream",
          "name": "stdout",
          "text": [
            "[1] 160.2\n",
            "[1] 218.8\n",
            "[1] 246.4\n",
            "[1] 328.9\n",
            "[1] 276.9\n",
            "[1] 323.6\n"
          ]
        }
      ]
    },
    {
      "cell_type": "markdown",
      "source": [
        "Another ready-to-use data set is InsectSprays. It contains data on the number of insect found on various agricultural units, as well as the type of insect spray that was used on each unit. Ensure you can access the data frame at the prompt; then study the help file? InsectSprays to get an idea of R’s representation of the two variables.\n",
        "\n",
        "4)\tIdentify the two variable types in InsectSprays.\n"
      ],
      "metadata": {
        "id": "nMc6mgljTyQk"
      }
    },
    {
      "cell_type": "code",
      "source": [
        "data(\"InsectSprays\")\n",
        "head(InsectSprays)"
      ],
      "metadata": {
        "colab": {
          "base_uri": "https://localhost:8080/",
          "height": 286
        },
        "id": "wNpAqU7eTv10",
        "outputId": "d5e8c020-a686-491a-c5d8-c481b856f7db"
      },
      "execution_count": null,
      "outputs": [
        {
          "output_type": "display_data",
          "data": {
            "text/html": [
              "<table class=\"dataframe\">\n",
              "<caption>A data.frame: 6 × 2</caption>\n",
              "<thead>\n",
              "\t<tr><th></th><th scope=col>count</th><th scope=col>spray</th></tr>\n",
              "\t<tr><th></th><th scope=col>&lt;dbl&gt;</th><th scope=col>&lt;fct&gt;</th></tr>\n",
              "</thead>\n",
              "<tbody>\n",
              "\t<tr><th scope=row>1</th><td>10</td><td>A</td></tr>\n",
              "\t<tr><th scope=row>2</th><td> 7</td><td>A</td></tr>\n",
              "\t<tr><th scope=row>3</th><td>20</td><td>A</td></tr>\n",
              "\t<tr><th scope=row>4</th><td>14</td><td>A</td></tr>\n",
              "\t<tr><th scope=row>5</th><td>14</td><td>A</td></tr>\n",
              "\t<tr><th scope=row>6</th><td>12</td><td>A</td></tr>\n",
              "</tbody>\n",
              "</table>\n"
            ],
            "text/markdown": "\nA data.frame: 6 × 2\n\n| <!--/--> | count &lt;dbl&gt; | spray &lt;fct&gt; |\n|---|---|---|\n| 1 | 10 | A |\n| 2 |  7 | A |\n| 3 | 20 | A |\n| 4 | 14 | A |\n| 5 | 14 | A |\n| 6 | 12 | A |\n\n",
            "text/latex": "A data.frame: 6 × 2\n\\begin{tabular}{r|ll}\n  & count & spray\\\\\n  & <dbl> & <fct>\\\\\n\\hline\n\t1 & 10 & A\\\\\n\t2 &  7 & A\\\\\n\t3 & 20 & A\\\\\n\t4 & 14 & A\\\\\n\t5 & 14 & A\\\\\n\t6 & 12 & A\\\\\n\\end{tabular}\n",
            "text/plain": [
              "  count spray\n",
              "1 10    A    \n",
              "2  7    A    \n",
              "3 20    A    \n",
              "4 14    A    \n",
              "5 14    A    \n",
              "6 12    A    "
            ]
          },
          "metadata": {}
        }
      ]
    },
    {
      "cell_type": "code",
      "source": [
        "dim(InsectSprays)"
      ],
      "metadata": {
        "colab": {
          "base_uri": "https://localhost:8080/",
          "height": 34
        },
        "id": "jsOup4wQUAJb",
        "outputId": "78385cab-586c-4b3d-bb07-c1a699757985"
      },
      "execution_count": null,
      "outputs": [
        {
          "output_type": "display_data",
          "data": {
            "text/html": [
              "<style>\n",
              ".list-inline {list-style: none; margin:0; padding: 0}\n",
              ".list-inline>li {display: inline-block}\n",
              ".list-inline>li:not(:last-child)::after {content: \"\\00b7\"; padding: 0 .5ex}\n",
              "</style>\n",
              "<ol class=list-inline><li>72</li><li>2</li></ol>\n"
            ],
            "text/markdown": "1. 72\n2. 2\n\n\n",
            "text/latex": "\\begin{enumerate*}\n\\item 72\n\\item 2\n\\end{enumerate*}\n",
            "text/plain": [
              "[1] 72  2"
            ]
          },
          "metadata": {}
        }
      ]
    },
    {
      "cell_type": "code",
      "source": [
        "str(InsectSprays)"
      ],
      "metadata": {
        "colab": {
          "base_uri": "https://localhost:8080/"
        },
        "id": "1XA7ZVk-UDG3",
        "outputId": "173b3a10-e98b-4733-8c51-8f3ae719a9f2"
      },
      "execution_count": null,
      "outputs": [
        {
          "output_type": "stream",
          "name": "stdout",
          "text": [
            "'data.frame':\t72 obs. of  2 variables:\n",
            " $ count: num  10 7 20 14 14 12 10 23 17 20 ...\n",
            " $ spray: Factor w/ 6 levels \"A\",\"B\",\"C\",\"D\",..: 1 1 1 1 1 1 1 1 1 1 ...\n"
          ]
        }
      ]
    },
    {
      "cell_type": "markdown",
      "source": [
        "5)\tCalculate the modes of the distribution of insect counts, regardless of spray type."
      ],
      "metadata": {
        "id": "lhxlMbeZUGDG"
      }
    },
    {
      "cell_type": "code",
      "source": [
        "table(InsectSprays$count)"
      ],
      "metadata": {
        "colab": {
          "base_uri": "https://localhost:8080/",
          "height": 69
        },
        "id": "Nu1Mmqa7UFA8",
        "outputId": "970694ca-ec49-46c7-c71c-0072d8ec1636"
      },
      "execution_count": null,
      "outputs": [
        {
          "output_type": "display_data",
          "data": {
            "text/plain": [
              "\n",
              " 0  1  2  3  4  5  6  7  9 10 11 12 13 14 15 16 17 19 20 21 22 23 24 26 \n",
              " 2  6  4  8  4  7  3  3  1  3  3  2  4  4  2  2  4  1  2  2  1  1  1  2 "
            ]
          },
          "metadata": {}
        }
      ]
    },
    {
      "cell_type": "code",
      "source": [
        "insect.table <- table(InsectSprays$count)\n",
        "mode <- insect.table[insect.table==max(insect.table)]\n",
        "mode"
      ],
      "metadata": {
        "colab": {
          "base_uri": "https://localhost:8080/",
          "height": 34
        },
        "id": "uWz6KAyOULZs",
        "outputId": "8fdf1856-e703-43f2-ce44-d8cfe865096b"
      },
      "execution_count": null,
      "outputs": [
        {
          "output_type": "display_data",
          "data": {
            "text/html": [
              "<strong>3:</strong> 8"
            ],
            "text/markdown": "**3:** 8",
            "text/latex": "\\textbf{3:} 8",
            "text/plain": [
              "3 \n",
              "8 "
            ]
          },
          "metadata": {}
        }
      ]
    },
    {
      "cell_type": "markdown",
      "source": [
        "6)\tUse tapply to report the total insect counts by each spray type."
      ],
      "metadata": {
        "id": "U05eqh_0UTc2"
      }
    },
    {
      "cell_type": "code",
      "source": [
        "tapply(InsectSprays$count, InsectSprays$spray , FUN=sum)"
      ],
      "metadata": {
        "colab": {
          "base_uri": "https://localhost:8080/",
          "height": 34
        },
        "id": "hZga-Y6dUPJ-",
        "outputId": "d5435693-477c-465f-9b5a-63fa5c622bfe"
      },
      "execution_count": null,
      "outputs": [
        {
          "output_type": "display_data",
          "data": {
            "text/html": [
              "<style>\n",
              ".dl-inline {width: auto; margin:0; padding: 0}\n",
              ".dl-inline>dt, .dl-inline>dd {float: none; width: auto; display: inline-block}\n",
              ".dl-inline>dt::after {content: \":\\0020\"; padding-right: .5ex}\n",
              ".dl-inline>dt:not(:first-of-type) {padding-left: .5ex}\n",
              "</style><dl class=dl-inline><dt>A</dt><dd>174</dd><dt>B</dt><dd>184</dd><dt>C</dt><dd>25</dd><dt>D</dt><dd>59</dd><dt>E</dt><dd>42</dd><dt>F</dt><dd>200</dd></dl>\n"
            ],
            "text/markdown": "A\n:   174B\n:   184C\n:   25D\n:   59E\n:   42F\n:   200\n\n",
            "text/latex": "\\begin{description*}\n\\item[A] 174\n\\item[B] 184\n\\item[C] 25\n\\item[D] 59\n\\item[E] 42\n\\item[F] 200\n\\end{description*}\n",
            "text/plain": [
              "  A   B   C   D   E   F \n",
              "174 184  25  59  42 200 "
            ]
          },
          "metadata": {}
        }
      ]
    },
    {
      "cell_type": "code",
      "source": [
        "sum(InsectSprays[InsectSprays$spray=='A', 'count'])"
      ],
      "metadata": {
        "colab": {
          "base_uri": "https://localhost:8080/",
          "height": 34
        },
        "id": "rEBHk9SeUY9F",
        "outputId": "c4cb78b8-5fab-442c-fc5a-e9103ec4ed4a"
      },
      "execution_count": null,
      "outputs": [
        {
          "output_type": "display_data",
          "data": {
            "text/html": [
              "174"
            ],
            "text/markdown": "174",
            "text/latex": "174",
            "text/plain": [
              "[1] 174"
            ]
          },
          "metadata": {}
        }
      ]
    },
    {
      "cell_type": "markdown",
      "source": [
        "7)\tUsing the same kind of for loop, compute the percentage of agricultural units in each spray group that had at least five bugs on them. When printing to the screen, round the percentages to the nearest whole number."
      ],
      "metadata": {
        "id": "8gRa7xhFVu8h"
      }
    },
    {
      "cell_type": "code",
      "source": [
        "m <- unique(InsectSprays$spray)\n",
        "m"
      ],
      "metadata": {
        "colab": {
          "base_uri": "https://localhost:8080/",
          "height": 52
        },
        "id": "IRK3ErycVp9O",
        "outputId": "b45a72ea-9a3f-4344-8df1-5ed79e09ced9"
      },
      "execution_count": null,
      "outputs": [
        {
          "output_type": "display_data",
          "data": {
            "text/html": [
              "<style>\n",
              ".list-inline {list-style: none; margin:0; padding: 0}\n",
              ".list-inline>li {display: inline-block}\n",
              ".list-inline>li:not(:last-child)::after {content: \"\\00b7\"; padding: 0 .5ex}\n",
              "</style>\n",
              "<ol class=list-inline><li>A</li><li>B</li><li>C</li><li>D</li><li>E</li><li>F</li></ol>\n",
              "\n",
              "<details>\n",
              "\t<summary style=display:list-item;cursor:pointer>\n",
              "\t\t<strong>Levels</strong>:\n",
              "\t</summary>\n",
              "\t<style>\n",
              "\t.list-inline {list-style: none; margin:0; padding: 0}\n",
              "\t.list-inline>li {display: inline-block}\n",
              "\t.list-inline>li:not(:last-child)::after {content: \"\\00b7\"; padding: 0 .5ex}\n",
              "\t</style>\n",
              "\t<ol class=list-inline><li>'A'</li><li>'B'</li><li>'C'</li><li>'D'</li><li>'E'</li><li>'F'</li></ol>\n",
              "</details>"
            ],
            "text/markdown": "1. A\n2. B\n3. C\n4. D\n5. E\n6. F\n\n\n\n**Levels**: 1. 'A'\n2. 'B'\n3. 'C'\n4. 'D'\n5. 'E'\n6. 'F'\n\n\n",
            "text/latex": "\\begin{enumerate*}\n\\item A\n\\item B\n\\item C\n\\item D\n\\item E\n\\item F\n\\end{enumerate*}\n\n\\emph{Levels}: \\begin{enumerate*}\n\\item 'A'\n\\item 'B'\n\\item 'C'\n\\item 'D'\n\\item 'E'\n\\item 'F'\n\\end{enumerate*}\n",
            "text/plain": [
              "[1] A B C D E F\n",
              "Levels: A B C D E F"
            ]
          },
          "metadata": {}
        }
      ]
    },
    {
      "cell_type": "code",
      "source": [
        "for(i in 1:length(m))\n",
        "{\n",
        "     series <- InsectSprays[InsectSprays$spray==m[i],'count']\n",
        "     series.length <- length(series)\n",
        "     req <- sum(series>=5)\n",
        "     percentage <- round(req/series.length*100)\n",
        "     print(percentage)\n",
        "}\n"
      ],
      "metadata": {
        "colab": {
          "base_uri": "https://localhost:8080/"
        },
        "id": "JKlHqsD1WeRw",
        "outputId": "5528dd24-2a47-4a7c-fbd9-0773bbc142df"
      },
      "execution_count": null,
      "outputs": [
        {
          "output_type": "stream",
          "name": "stdout",
          "text": [
            "[1] 100\n",
            "[1] 100\n",
            "[1] 8\n",
            "[1] 58\n",
            "[1] 33\n",
            "[1] 100\n"
          ]
        }
      ]
    },
    {
      "cell_type": "markdown",
      "source": [
        "8)\tObtain the same numeric results as in above, with rounding, but use tapply and a disposable function."
      ],
      "metadata": {
        "id": "Rhpoo72CWpS4"
      }
    },
    {
      "cell_type": "code",
      "source": [
        "calculate_percentage <- function(x)\n",
        "{\n",
        "  req <- sum(x >= 5)\n",
        "  percentage <- round(req / length(x) * 100)\n",
        "  return(percentage)\n",
        "}"
      ],
      "metadata": {
        "id": "-CJ8IAAjWlQZ"
      },
      "execution_count": null,
      "outputs": []
    },
    {
      "cell_type": "code",
      "source": [
        "spray_group <- tapply(InsectSprays$count, InsectSprays$spray, calculate_percentage)\n",
        "spray_group\n"
      ],
      "metadata": {
        "colab": {
          "base_uri": "https://localhost:8080/",
          "height": 34
        },
        "id": "uwmU5LtGW4gW",
        "outputId": "dc15f40e-f6be-425b-869f-4e5e29cd8ce9"
      },
      "execution_count": null,
      "outputs": [
        {
          "output_type": "display_data",
          "data": {
            "text/html": [
              "<style>\n",
              ".dl-inline {width: auto; margin:0; padding: 0}\n",
              ".dl-inline>dt, .dl-inline>dd {float: none; width: auto; display: inline-block}\n",
              ".dl-inline>dt::after {content: \":\\0020\"; padding-right: .5ex}\n",
              ".dl-inline>dt:not(:first-of-type) {padding-left: .5ex}\n",
              "</style><dl class=dl-inline><dt>A</dt><dd>100</dd><dt>B</dt><dd>100</dd><dt>C</dt><dd>8</dd><dt>D</dt><dd>58</dd><dt>E</dt><dd>33</dd><dt>F</dt><dd>100</dd></dl>\n"
            ],
            "text/markdown": "A\n:   100B\n:   100C\n:   8D\n:   58E\n:   33F\n:   100\n\n",
            "text/latex": "\\begin{description*}\n\\item[A] 100\n\\item[B] 100\n\\item[C] 8\n\\item[D] 58\n\\item[E] 33\n\\item[F] 100\n\\end{description*}\n",
            "text/plain": [
              "  A   B   C   D   E   F \n",
              "100 100   8  58  33 100 "
            ]
          },
          "metadata": {}
        }
      ]
    },
    {
      "cell_type": "markdown",
      "source": [
        "# Quantiles, Percentiles, and the Five-Number Summary"
      ],
      "metadata": {
        "id": "KLCmxI_sYd7K"
      }
    },
    {
      "cell_type": "code",
      "source": [
        "xdata <- c(2,4.4,3,3,2,2.2,2,4)\n",
        "xdata"
      ],
      "metadata": {
        "id": "0H08CB05XCT_",
        "colab": {
          "base_uri": "https://localhost:8080/",
          "height": 34
        },
        "outputId": "12557a9a-e13b-4812-ce47-26e0612376c2"
      },
      "execution_count": null,
      "outputs": [
        {
          "output_type": "display_data",
          "data": {
            "text/html": [
              "<style>\n",
              ".list-inline {list-style: none; margin:0; padding: 0}\n",
              ".list-inline>li {display: inline-block}\n",
              ".list-inline>li:not(:last-child)::after {content: \"\\00b7\"; padding: 0 .5ex}\n",
              "</style>\n",
              "<ol class=list-inline><li>2</li><li>4.4</li><li>3</li><li>3</li><li>2</li><li>2.2</li><li>2</li><li>4</li></ol>\n"
            ],
            "text/markdown": "1. 2\n2. 4.4\n3. 3\n4. 3\n5. 2\n6. 2.2\n7. 2\n8. 4\n\n\n",
            "text/latex": "\\begin{enumerate*}\n\\item 2\n\\item 4.4\n\\item 3\n\\item 3\n\\item 2\n\\item 2.2\n\\item 2\n\\item 4\n\\end{enumerate*}\n",
            "text/plain": [
              "[1] 2.0 4.4 3.0 3.0 2.0 2.2 2.0 4.0"
            ]
          },
          "metadata": {}
        }
      ]
    },
    {
      "cell_type": "code",
      "source": [
        "quantile(xdata,prob=0.8)"
      ],
      "metadata": {
        "colab": {
          "base_uri": "https://localhost:8080/",
          "height": 34
        },
        "id": "BnFF7pdQvWz1",
        "outputId": "30c2da7b-f803-4917-983b-654205824fac"
      },
      "execution_count": null,
      "outputs": [
        {
          "output_type": "display_data",
          "data": {
            "text/html": [
              "<strong>80%:</strong> 3.6"
            ],
            "text/markdown": "**80%:** 3.6",
            "text/latex": "\\textbf{80\\textbackslash{}\\%:} 3.6",
            "text/plain": [
              "80% \n",
              "3.6 "
            ]
          },
          "metadata": {}
        }
      ]
    },
    {
      "cell_type": "code",
      "source": [
        "sort(xdata)"
      ],
      "metadata": {
        "colab": {
          "base_uri": "https://localhost:8080/",
          "height": 34
        },
        "id": "JZrv9vI2vZxO",
        "outputId": "534ef991-1757-4e4c-8b7c-6ebe11425d6b"
      },
      "execution_count": null,
      "outputs": [
        {
          "output_type": "display_data",
          "data": {
            "text/html": [
              "<style>\n",
              ".list-inline {list-style: none; margin:0; padding: 0}\n",
              ".list-inline>li {display: inline-block}\n",
              ".list-inline>li:not(:last-child)::after {content: \"\\00b7\"; padding: 0 .5ex}\n",
              "</style>\n",
              "<ol class=list-inline><li>2</li><li>2</li><li>2</li><li>2.2</li><li>3</li><li>3</li><li>4</li><li>4.4</li></ol>\n"
            ],
            "text/markdown": "1. 2\n2. 2\n3. 2\n4. 2.2\n5. 3\n6. 3\n7. 4\n8. 4.4\n\n\n",
            "text/latex": "\\begin{enumerate*}\n\\item 2\n\\item 2\n\\item 2\n\\item 2.2\n\\item 3\n\\item 3\n\\item 4\n\\item 4.4\n\\end{enumerate*}\n",
            "text/plain": [
              "[1] 2.0 2.0 2.0 2.2 3.0 3.0 4.0 4.4"
            ]
          },
          "metadata": {}
        }
      ]
    },
    {
      "cell_type": "code",
      "source": [
        "quantile(xdata, prob = 0.2)"
      ],
      "metadata": {
        "colab": {
          "base_uri": "https://localhost:8080/",
          "height": 34
        },
        "id": "q8wvD3_3vejB",
        "outputId": "f092c2cb-a35f-4d23-92b4-b1d3122e8491"
      },
      "execution_count": null,
      "outputs": [
        {
          "output_type": "display_data",
          "data": {
            "text/html": [
              "<strong>20%:</strong> 2"
            ],
            "text/markdown": "**20%:** 2",
            "text/latex": "\\textbf{20\\textbackslash{}\\%:} 2",
            "text/plain": [
              "20% \n",
              "  2 "
            ]
          },
          "metadata": {}
        }
      ]
    },
    {
      "cell_type": "code",
      "source": [
        "quantile(xdata, prob = )"
      ],
      "metadata": {
        "colab": {
          "base_uri": "https://localhost:8080/",
          "height": 34
        },
        "id": "dXiONV0nvljr",
        "outputId": "1a85ee29-0deb-48f9-cd53-8720463d96b1"
      },
      "execution_count": null,
      "outputs": [
        {
          "output_type": "display_data",
          "data": {
            "text/html": [
              "<style>\n",
              ".dl-inline {width: auto; margin:0; padding: 0}\n",
              ".dl-inline>dt, .dl-inline>dd {float: none; width: auto; display: inline-block}\n",
              ".dl-inline>dt::after {content: \":\\0020\"; padding-right: .5ex}\n",
              ".dl-inline>dt:not(:first-of-type) {padding-left: .5ex}\n",
              "</style><dl class=dl-inline><dt>0%</dt><dd>2</dd><dt>25%</dt><dd>2</dd><dt>50%</dt><dd>2.6</dd><dt>75%</dt><dd>3.25</dd><dt>100%</dt><dd>4.4</dd></dl>\n"
            ],
            "text/markdown": "0%\n:   225%\n:   250%\n:   2.675%\n:   3.25100%\n:   4.4\n\n",
            "text/latex": "\\begin{description*}\n\\item[0\\textbackslash{}\\%] 2\n\\item[25\\textbackslash{}\\%] 2\n\\item[50\\textbackslash{}\\%] 2.6\n\\item[75\\textbackslash{}\\%] 3.25\n\\item[100\\textbackslash{}\\%] 4.4\n\\end{description*}\n",
            "text/plain": [
              "  0%  25%  50%  75% 100% \n",
              "2.00 2.00 2.60 3.25 4.40 "
            ]
          },
          "metadata": {}
        }
      ]
    },
    {
      "cell_type": "code",
      "source": [
        "summary(xdata)"
      ],
      "metadata": {
        "colab": {
          "base_uri": "https://localhost:8080/",
          "height": 52
        },
        "id": "n1r3Aa5GvsJr",
        "outputId": "c01f28e0-eaa8-40e5-9e9e-7ac7ab03b4d1"
      },
      "execution_count": null,
      "outputs": [
        {
          "output_type": "display_data",
          "data": {
            "text/plain": [
              "   Min. 1st Qu.  Median    Mean 3rd Qu.    Max. \n",
              "  2.000   2.000   2.600   2.825   3.250   4.400 "
            ]
          },
          "metadata": {}
        }
      ]
    },
    {
      "cell_type": "markdown",
      "source": [
        "# Spread: Variance, Standard Deviation, and the Interquartile Range"
      ],
      "metadata": {
        "id": "tn5kl2vNQqct"
      }
    },
    {
      "cell_type": "code",
      "source": [
        "xdata <- c(2,4.4,3,3,2,2.2,2,4)\n",
        "ydata <- c(1,4.4,1,3,2,2.2,2,7)\n",
        "print(xdata)\n",
        "print(ydata)"
      ],
      "metadata": {
        "colab": {
          "base_uri": "https://localhost:8080/"
        },
        "id": "sAHKu2lxvyt1",
        "outputId": "f8f828e0-3417-42ec-b30e-e18b91936c55"
      },
      "execution_count": null,
      "outputs": [
        {
          "output_type": "stream",
          "name": "stdout",
          "text": [
            "[1] 2.0 4.4 3.0 3.0 2.0 2.2 2.0 4.0\n",
            "[1] 1.0 4.4 1.0 3.0 2.0 2.2 2.0 7.0\n"
          ]
        }
      ]
    },
    {
      "cell_type": "code",
      "source": [
        "print(mean(xdata))\n",
        "print(mean(ydata))"
      ],
      "metadata": {
        "colab": {
          "base_uri": "https://localhost:8080/"
        },
        "id": "tKcIrUlVv__4",
        "outputId": "cf7237b5-b98a-468c-96c1-ec150e83791f"
      },
      "execution_count": null,
      "outputs": [
        {
          "output_type": "stream",
          "name": "stdout",
          "text": [
            "[1] 2.825\n",
            "[1] 2.825\n"
          ]
        }
      ]
    },
    {
      "cell_type": "code",
      "source": [
        "print(var(xdata))\n",
        "print(var(ydata))"
      ],
      "metadata": {
        "colab": {
          "base_uri": "https://localhost:8080/"
        },
        "id": "l8ZCSe67wCZ0",
        "outputId": "15758b9b-f70d-44c7-ecbf-fa2646187de4"
      },
      "execution_count": null,
      "outputs": [
        {
          "output_type": "stream",
          "name": "stdout",
          "text": [
            "[1] 0.9078571\n",
            "[1] 4.050714\n"
          ]
        }
      ]
    },
    {
      "cell_type": "code",
      "source": [
        "print(sd(xdata))\n",
        "print(sd(ydata))"
      ],
      "metadata": {
        "colab": {
          "base_uri": "https://localhost:8080/"
        },
        "id": "gu7khPbKwDzn",
        "outputId": "bbe84490-2659-47e2-e174-49d2be363e13"
      },
      "execution_count": null,
      "outputs": [
        {
          "output_type": "stream",
          "name": "stdout",
          "text": [
            "[1] 0.9528154\n",
            "[1] 2.012639\n"
          ]
        }
      ]
    },
    {
      "cell_type": "code",
      "source": [
        "print(IQR(xdata))\n",
        "print(IQR(ydata))"
      ],
      "metadata": {
        "colab": {
          "base_uri": "https://localhost:8080/"
        },
        "id": "Ax1bzXsCwU-h",
        "outputId": "a376d7ca-ac22-4a2c-eca5-e07722bf28c2"
      },
      "execution_count": null,
      "outputs": [
        {
          "output_type": "stream",
          "name": "stdout",
          "text": [
            "[1] 1.25\n",
            "[1] 1.6\n"
          ]
        }
      ]
    },
    {
      "cell_type": "code",
      "source": [
        "quantile(chickwts$weight, prob = c(0.25, 0.75))"
      ],
      "metadata": {
        "colab": {
          "base_uri": "https://localhost:8080/",
          "height": 34
        },
        "id": "GpXhx_iwwb_0",
        "outputId": "756f7ca4-c355-4163-a3fb-c4b73855d1e8"
      },
      "execution_count": null,
      "outputs": [
        {
          "output_type": "display_data",
          "data": {
            "text/html": [
              "<style>\n",
              ".dl-inline {width: auto; margin:0; padding: 0}\n",
              ".dl-inline>dt, .dl-inline>dd {float: none; width: auto; display: inline-block}\n",
              ".dl-inline>dt::after {content: \":\\0020\"; padding-right: .5ex}\n",
              ".dl-inline>dt:not(:first-of-type) {padding-left: .5ex}\n",
              "</style><dl class=dl-inline><dt>25%</dt><dd>204.5</dd><dt>75%</dt><dd>323.5</dd></dl>\n"
            ],
            "text/markdown": "25%\n:   204.575%\n:   323.5\n\n",
            "text/latex": "\\begin{description*}\n\\item[25\\textbackslash{}\\%] 204.5\n\\item[75\\textbackslash{}\\%] 323.5\n\\end{description*}\n",
            "text/plain": [
              "  25%   75% \n",
              "204.5 323.5 "
            ]
          },
          "metadata": {}
        }
      ]
    },
    {
      "cell_type": "code",
      "source": [
        "summary(quakes$mag[quakes$mag < 400])"
      ],
      "metadata": {
        "colab": {
          "base_uri": "https://localhost:8080/",
          "height": 52
        },
        "id": "DZFpe88Dwuhd",
        "outputId": "f88b0a75-613b-4dd9-e07e-463bf0c00013"
      },
      "execution_count": null,
      "outputs": [
        {
          "output_type": "display_data",
          "data": {
            "text/plain": [
              "   Min. 1st Qu.  Median    Mean 3rd Qu.    Max. \n",
              "   4.00    4.30    4.60    4.62    4.90    6.40 "
            ]
          },
          "metadata": {}
        }
      ]
    },
    {
      "cell_type": "code",
      "source": [
        "plot(xdata, type = \"n\", xlab = \" \", ylab=\"data vector\", yaxt = \"n\", bty=\"n\")\n",
        "abline(h=c(3, 3.5), lty=2, col=\"gray\")\n",
        "abline(v=2.825, lwd=2, lty=3)\n",
        "text(c(0.8, 0.8), c(3,3.5), labels = c(\"x\", \"y\"))\n",
        "points(jitter(c(xdata, ydata)), c(rep(3, length(xdata)), rep(3.5, length(ydata))))\n"
      ],
      "metadata": {
        "colab": {
          "base_uri": "https://localhost:8080/",
          "height": 437
        },
        "id": "Qxy-dQ1Hw3uL",
        "outputId": "0d4a29b5-ec21-4e76-c986-b7b8e4dd3bcb"
      },
      "execution_count": null,
      "outputs": [
        {
          "output_type": "display_data",
          "data": {
            "text/plain": [
              "plot without title"
            ],
            "image/png": "[encoded data removed]"
          },
          "metadata": {
            "image/png": {
              "width": 420,
              "height": 420
            }
          }
        }
      ]
    },
    {
      "cell_type": "code",
      "source": [
        "print(sd(xdata))\n",
        "print(sd(ydata))\n",
        "print(sqrt(var(xdata)))\n",
        "print(sqrt(var(ydata)))"
      ],
      "metadata": {
        "colab": {
          "base_uri": "https://localhost:8080/"
        },
        "id": "xrDcQ-pnx55x",
        "outputId": "13b873bb-4d87-4b02-b9f6-222c5155da66"
      },
      "execution_count": null,
      "outputs": [
        {
          "output_type": "stream",
          "name": "stdout",
          "text": [
            "[1] 0.9528154\n",
            "[1] 2.012639\n",
            "[1] 0.9528154\n",
            "[1] 2.012639\n"
          ]
        }
      ]
    },
    {
      "cell_type": "code",
      "source": [
        "print(IQR(xdata))\n",
        "print(IQR(ydata))\n",
        "\n",
        "# IQR = Q3 - Q1\n",
        "print(quantile(xdata, prob = 0.75)-quantile(xdata, prob = 0.25))\n",
        "print(quantile(ydata, prob = 0.75)-quantile(ydata, prob = 0.25))"
      ],
      "metadata": {
        "colab": {
          "base_uri": "https://localhost:8080/"
        },
        "id": "S5hoQgkrzEVg",
        "outputId": "bd7f5aa6-12f3-45c0-dea5-3b4568841043"
      },
      "execution_count": null,
      "outputs": [
        {
          "output_type": "stream",
          "name": "stdout",
          "text": [
            "[1] 1.25\n",
            "[1] 1.6\n",
            " 75% \n",
            "1.25 \n",
            "75% \n",
            "1.6 \n"
          ]
        }
      ]
    },
    {
      "cell_type": "code",
      "source": [
        "# as.numeric strips away the percentile annotation\n",
        "\n",
        "print(as.numeric(quantile(xdata, prob = 0.75)-quantile(xdata, prob = 0.25)))\n",
        "print(as.numeric(quantile(ydata, prob = 0.75)-quantile(ydata, prob = 0.25)))\n"
      ],
      "metadata": {
        "colab": {
          "base_uri": "https://localhost:8080/"
        },
        "id": "8lXhBOiIzXaC",
        "outputId": "2a114f3f-6618-4f8f-8ef3-62051de4186c"
      },
      "execution_count": null,
      "outputs": [
        {
          "output_type": "stream",
          "name": "stdout",
          "text": [
            "[1] 1.25\n",
            "[1] 1.6\n"
          ]
        }
      ]
    },
    {
      "cell_type": "code",
      "source": [
        "sd(chickwts$weight)"
      ],
      "metadata": {
        "colab": {
          "base_uri": "https://localhost:8080/",
          "height": 34
        },
        "id": "UMCMhD2RzrUC",
        "outputId": "582319b5-db6a-4542-f921-e6c2e07f9e9b"
      },
      "execution_count": null,
      "outputs": [
        {
          "output_type": "display_data",
          "data": {
            "text/html": [
              "78.0736998975594"
            ],
            "text/markdown": "78.0736998975594",
            "text/latex": "78.0736998975594",
            "text/plain": [
              "[1] 78.0737"
            ]
          },
          "metadata": {}
        }
      ]
    },
    {
      "cell_type": "code",
      "source": [
        "IQR(quakes$mag[quakes$depth < 400])"
      ],
      "metadata": {
        "colab": {
          "base_uri": "https://localhost:8080/",
          "height": 34
        },
        "id": "8Q0AXMLcz7ot",
        "outputId": "5959c74f-5fde-436c-8da0-f0c7aa407869"
      },
      "execution_count": null,
      "outputs": [
        {
          "output_type": "display_data",
          "data": {
            "text/html": [
              "0.5"
            ],
            "text/markdown": "0.5",
            "text/latex": "0.5",
            "text/plain": [
              "[1] 0.5"
            ]
          },
          "metadata": {}
        }
      ]
    },
    {
      "cell_type": "markdown",
      "source": [
        "# Exercise 13.3"
      ],
      "metadata": {
        "id": "I7Bts-Ax0G6p"
      }
    },
    {
      "cell_type": "markdown",
      "source": [
        "Using the chickwts data frame, compute the 10th, 30th, and 90th percentiles of all the chick weights and then use tapply to determine which feed type is associated with the highest sample variance of weights."
      ],
      "metadata": {
        "id": "MZ93gldP0V35"
      }
    },
    {
      "cell_type": "code",
      "source": [
        "data(chickwts)\n",
        "head(chickwts)"
      ],
      "metadata": {
        "colab": {
          "base_uri": "https://localhost:8080/",
          "height": 286
        },
        "id": "jqjfv6Rg08Pd",
        "outputId": "70e70c60-7f4a-4a1a-b8ec-2f54d6410742"
      },
      "execution_count": null,
      "outputs": [
        {
          "output_type": "display_data",
          "data": {
            "text/html": [
              "<table class=\"dataframe\">\n",
              "<caption>A data.frame: 6 × 2</caption>\n",
              "<thead>\n",
              "\t<tr><th></th><th scope=col>weight</th><th scope=col>feed</th></tr>\n",
              "\t<tr><th></th><th scope=col>&lt;dbl&gt;</th><th scope=col>&lt;fct&gt;</th></tr>\n",
              "</thead>\n",
              "<tbody>\n",
              "\t<tr><th scope=row>1</th><td>179</td><td>horsebean</td></tr>\n",
              "\t<tr><th scope=row>2</th><td>160</td><td>horsebean</td></tr>\n",
              "\t<tr><th scope=row>3</th><td>136</td><td>horsebean</td></tr>\n",
              "\t<tr><th scope=row>4</th><td>227</td><td>horsebean</td></tr>\n",
              "\t<tr><th scope=row>5</th><td>217</td><td>horsebean</td></tr>\n",
              "\t<tr><th scope=row>6</th><td>168</td><td>horsebean</td></tr>\n",
              "</tbody>\n",
              "</table>\n"
            ],
            "text/markdown": "\nA data.frame: 6 × 2\n\n| <!--/--> | weight &lt;dbl&gt; | feed &lt;fct&gt; |\n|---|---|---|\n| 1 | 179 | horsebean |\n| 2 | 160 | horsebean |\n| 3 | 136 | horsebean |\n| 4 | 227 | horsebean |\n| 5 | 217 | horsebean |\n| 6 | 168 | horsebean |\n\n",
            "text/latex": "A data.frame: 6 × 2\n\\begin{tabular}{r|ll}\n  & weight & feed\\\\\n  & <dbl> & <fct>\\\\\n\\hline\n\t1 & 179 & horsebean\\\\\n\t2 & 160 & horsebean\\\\\n\t3 & 136 & horsebean\\\\\n\t4 & 227 & horsebean\\\\\n\t5 & 217 & horsebean\\\\\n\t6 & 168 & horsebean\\\\\n\\end{tabular}\n",
            "text/plain": [
              "  weight feed     \n",
              "1 179    horsebean\n",
              "2 160    horsebean\n",
              "3 136    horsebean\n",
              "4 227    horsebean\n",
              "5 217    horsebean\n",
              "6 168    horsebean"
            ]
          },
          "metadata": {}
        }
      ]
    },
    {
      "cell_type": "code",
      "source": [
        "percentile <- quantile(chickwts$weight, prob=c(0.1,0.3,0.9))\n",
        "percentile"
      ],
      "metadata": {
        "colab": {
          "base_uri": "https://localhost:8080/",
          "height": 34
        },
        "id": "MBdbjVEF0Bgm",
        "outputId": "02cdcf1c-9e4e-47bc-c031-488401a2b265"
      },
      "execution_count": null,
      "outputs": [
        {
          "output_type": "display_data",
          "data": {
            "text/html": [
              "<style>\n",
              ".dl-inline {width: auto; margin:0; padding: 0}\n",
              ".dl-inline>dt, .dl-inline>dd {float: none; width: auto; display: inline-block}\n",
              ".dl-inline>dt::after {content: \":\\0020\"; padding-right: .5ex}\n",
              ".dl-inline>dt:not(:first-of-type) {padding-left: .5ex}\n",
              "</style><dl class=dl-inline><dt>10%</dt><dd>153</dd><dt>30%</dt><dd>217</dd><dt>90%</dt><dd>359</dd></dl>\n"
            ],
            "text/markdown": "10%\n:   15330%\n:   21790%\n:   359\n\n",
            "text/latex": "\\begin{description*}\n\\item[10\\textbackslash{}\\%] 153\n\\item[30\\textbackslash{}\\%] 217\n\\item[90\\textbackslash{}\\%] 359\n\\end{description*}\n",
            "text/plain": [
              "10% 30% 90% \n",
              "153 217 359 "
            ]
          },
          "metadata": {}
        }
      ]
    },
    {
      "cell_type": "code",
      "source": [
        "# find the variance\n",
        "vari <- tapply(chickwts$weight, chickwts$feed, FUN=var)\n",
        "vari"
      ],
      "metadata": {
        "colab": {
          "base_uri": "https://localhost:8080/",
          "height": 69
        },
        "id": "EO8R5C0P0loQ",
        "outputId": "f65edf0c-2b76-49be-d9f3-260fd254bf3c"
      },
      "execution_count": null,
      "outputs": [
        {
          "output_type": "display_data",
          "data": {
            "text/html": [
              "<style>\n",
              ".dl-inline {width: auto; margin:0; padding: 0}\n",
              ".dl-inline>dt, .dl-inline>dd {float: none; width: auto; display: inline-block}\n",
              ".dl-inline>dt::after {content: \":\\0020\"; padding-right: .5ex}\n",
              ".dl-inline>dt:not(:first-of-type) {padding-left: .5ex}\n",
              "</style><dl class=dl-inline><dt>casein</dt><dd>4151.7196969697</dd><dt>horsebean</dt><dd>1491.95555555556</dd><dt>linseed</dt><dd>2728.56818181818</dd><dt>meatmeal</dt><dd>4212.09090909091</dd><dt>soybean</dt><dd>2929.95604395604</dd><dt>sunflower</dt><dd>2384.99242424242</dd></dl>\n"
            ],
            "text/markdown": "casein\n:   4151.7196969697horsebean\n:   1491.95555555556linseed\n:   2728.56818181818meatmeal\n:   4212.09090909091soybean\n:   2929.95604395604sunflower\n:   2384.99242424242\n\n",
            "text/latex": "\\begin{description*}\n\\item[casein] 4151.7196969697\n\\item[horsebean] 1491.95555555556\n\\item[linseed] 2728.56818181818\n\\item[meatmeal] 4212.09090909091\n\\item[soybean] 2929.95604395604\n\\item[sunflower] 2384.99242424242\n\\end{description*}\n",
            "text/plain": [
              "   casein horsebean   linseed  meatmeal   soybean sunflower \n",
              " 4151.720  1491.956  2728.568  4212.091  2929.956  2384.992 "
            ]
          },
          "metadata": {}
        }
      ]
    },
    {
      "cell_type": "code",
      "source": [
        "# determine the hightest variance\n",
        "c <- which.max(vari)\n",
        "c"
      ],
      "metadata": {
        "colab": {
          "base_uri": "https://localhost:8080/",
          "height": 34
        },
        "id": "AYzgCNJH1G0u",
        "outputId": "946af45f-448c-4677-9243-560fb052a6ea"
      },
      "execution_count": null,
      "outputs": [
        {
          "output_type": "display_data",
          "data": {
            "text/html": [
              "<strong>meatmeal:</strong> 4"
            ],
            "text/markdown": "**meatmeal:** 4",
            "text/latex": "\\textbf{meatmeal:} 4",
            "text/plain": [
              "meatmeal \n",
              "       4 "
            ]
          },
          "metadata": {}
        }
      ]
    },
    {
      "cell_type": "code",
      "source": [
        "chickwts[chickwts$feed=='meatmeal',]"
      ],
      "metadata": {
        "colab": {
          "base_uri": "https://localhost:8080/",
          "height": 443
        },
        "id": "gJSvd_tF1ofR",
        "outputId": "9975811e-c938-4080-9cf5-6ef65c778346"
      },
      "execution_count": null,
      "outputs": [
        {
          "output_type": "display_data",
          "data": {
            "text/html": [
              "<table class=\"dataframe\">\n",
              "<caption>A data.frame: 11 × 2</caption>\n",
              "<thead>\n",
              "\t<tr><th></th><th scope=col>weight</th><th scope=col>feed</th></tr>\n",
              "\t<tr><th></th><th scope=col>&lt;dbl&gt;</th><th scope=col>&lt;fct&gt;</th></tr>\n",
              "</thead>\n",
              "<tbody>\n",
              "\t<tr><th scope=row>49</th><td>325</td><td>meatmeal</td></tr>\n",
              "\t<tr><th scope=row>50</th><td>257</td><td>meatmeal</td></tr>\n",
              "\t<tr><th scope=row>51</th><td>303</td><td>meatmeal</td></tr>\n",
              "\t<tr><th scope=row>52</th><td>315</td><td>meatmeal</td></tr>\n",
              "\t<tr><th scope=row>53</th><td>380</td><td>meatmeal</td></tr>\n",
              "\t<tr><th scope=row>54</th><td>153</td><td>meatmeal</td></tr>\n",
              "\t<tr><th scope=row>55</th><td>263</td><td>meatmeal</td></tr>\n",
              "\t<tr><th scope=row>56</th><td>242</td><td>meatmeal</td></tr>\n",
              "\t<tr><th scope=row>57</th><td>206</td><td>meatmeal</td></tr>\n",
              "\t<tr><th scope=row>58</th><td>344</td><td>meatmeal</td></tr>\n",
              "\t<tr><th scope=row>59</th><td>258</td><td>meatmeal</td></tr>\n",
              "</tbody>\n",
              "</table>\n"
            ],
            "text/markdown": "\nA data.frame: 11 × 2\n\n| <!--/--> | weight &lt;dbl&gt; | feed &lt;fct&gt; |\n|---|---|---|\n| 49 | 325 | meatmeal |\n| 50 | 257 | meatmeal |\n| 51 | 303 | meatmeal |\n| 52 | 315 | meatmeal |\n| 53 | 380 | meatmeal |\n| 54 | 153 | meatmeal |\n| 55 | 263 | meatmeal |\n| 56 | 242 | meatmeal |\n| 57 | 206 | meatmeal |\n| 58 | 344 | meatmeal |\n| 59 | 258 | meatmeal |\n\n",
            "text/latex": "A data.frame: 11 × 2\n\\begin{tabular}{r|ll}\n  & weight & feed\\\\\n  & <dbl> & <fct>\\\\\n\\hline\n\t49 & 325 & meatmeal\\\\\n\t50 & 257 & meatmeal\\\\\n\t51 & 303 & meatmeal\\\\\n\t52 & 315 & meatmeal\\\\\n\t53 & 380 & meatmeal\\\\\n\t54 & 153 & meatmeal\\\\\n\t55 & 263 & meatmeal\\\\\n\t56 & 242 & meatmeal\\\\\n\t57 & 206 & meatmeal\\\\\n\t58 & 344 & meatmeal\\\\\n\t59 & 258 & meatmeal\\\\\n\\end{tabular}\n",
            "text/plain": [
              "   weight feed    \n",
              "49 325    meatmeal\n",
              "50 257    meatmeal\n",
              "51 303    meatmeal\n",
              "52 315    meatmeal\n",
              "53 380    meatmeal\n",
              "54 153    meatmeal\n",
              "55 263    meatmeal\n",
              "56 242    meatmeal\n",
              "57 206    meatmeal\n",
              "58 344    meatmeal\n",
              "59 258    meatmeal"
            ]
          },
          "metadata": {}
        }
      ]
    },
    {
      "cell_type": "code",
      "source": [],
      "metadata": {
        "id": "HIhIjnej1z_Z"
      },
      "execution_count": null,
      "outputs": []
    },
    {
      "cell_type": "markdown",
      "source": [
        "Turn to the seismic event data in quakes and complete the following tasks:"
      ],
      "metadata": {
        "id": "In9iQH1619HQ"
      }
    },
    {
      "cell_type": "markdown",
      "source": [
        "1.\tFind the IQR of the recorded depths."
      ],
      "metadata": {
        "id": "OLExQq362C6j"
      }
    },
    {
      "cell_type": "code",
      "source": [
        "data(quakes)\n",
        "head(quakes)"
      ],
      "metadata": {
        "colab": {
          "base_uri": "https://localhost:8080/",
          "height": 286
        },
        "id": "GeS9A7PL2CEY",
        "outputId": "8f9561ad-aaf0-4e4a-d9d1-6d3e09e91aa8"
      },
      "execution_count": null,
      "outputs": [
        {
          "output_type": "display_data",
          "data": {
            "text/html": [
              "<table class=\"dataframe\">\n",
              "<caption>A data.frame: 6 × 5</caption>\n",
              "<thead>\n",
              "\t<tr><th></th><th scope=col>lat</th><th scope=col>long</th><th scope=col>depth</th><th scope=col>mag</th><th scope=col>stations</th></tr>\n",
              "\t<tr><th></th><th scope=col>&lt;dbl&gt;</th><th scope=col>&lt;dbl&gt;</th><th scope=col>&lt;int&gt;</th><th scope=col>&lt;dbl&gt;</th><th scope=col>&lt;int&gt;</th></tr>\n",
              "</thead>\n",
              "<tbody>\n",
              "\t<tr><th scope=row>1</th><td>-20.42</td><td>181.62</td><td>562</td><td>4.8</td><td>41</td></tr>\n",
              "\t<tr><th scope=row>2</th><td>-20.62</td><td>181.03</td><td>650</td><td>4.2</td><td>15</td></tr>\n",
              "\t<tr><th scope=row>3</th><td>-26.00</td><td>184.10</td><td> 42</td><td>5.4</td><td>43</td></tr>\n",
              "\t<tr><th scope=row>4</th><td>-17.97</td><td>181.66</td><td>626</td><td>4.1</td><td>19</td></tr>\n",
              "\t<tr><th scope=row>5</th><td>-20.42</td><td>181.96</td><td>649</td><td>4.0</td><td>11</td></tr>\n",
              "\t<tr><th scope=row>6</th><td>-19.68</td><td>184.31</td><td>195</td><td>4.0</td><td>12</td></tr>\n",
              "</tbody>\n",
              "</table>\n"
            ],
            "text/markdown": "\nA data.frame: 6 × 5\n\n| <!--/--> | lat &lt;dbl&gt; | long &lt;dbl&gt; | depth &lt;int&gt; | mag &lt;dbl&gt; | stations &lt;int&gt; |\n|---|---|---|---|---|---|\n| 1 | -20.42 | 181.62 | 562 | 4.8 | 41 |\n| 2 | -20.62 | 181.03 | 650 | 4.2 | 15 |\n| 3 | -26.00 | 184.10 |  42 | 5.4 | 43 |\n| 4 | -17.97 | 181.66 | 626 | 4.1 | 19 |\n| 5 | -20.42 | 181.96 | 649 | 4.0 | 11 |\n| 6 | -19.68 | 184.31 | 195 | 4.0 | 12 |\n\n",
            "text/latex": "A data.frame: 6 × 5\n\\begin{tabular}{r|lllll}\n  & lat & long & depth & mag & stations\\\\\n  & <dbl> & <dbl> & <int> & <dbl> & <int>\\\\\n\\hline\n\t1 & -20.42 & 181.62 & 562 & 4.8 & 41\\\\\n\t2 & -20.62 & 181.03 & 650 & 4.2 & 15\\\\\n\t3 & -26.00 & 184.10 &  42 & 5.4 & 43\\\\\n\t4 & -17.97 & 181.66 & 626 & 4.1 & 19\\\\\n\t5 & -20.42 & 181.96 & 649 & 4.0 & 11\\\\\n\t6 & -19.68 & 184.31 & 195 & 4.0 & 12\\\\\n\\end{tabular}\n",
            "text/plain": [
              "  lat    long   depth mag stations\n",
              "1 -20.42 181.62 562   4.8 41      \n",
              "2 -20.62 181.03 650   4.2 15      \n",
              "3 -26.00 184.10  42   5.4 43      \n",
              "4 -17.97 181.66 626   4.1 19      \n",
              "5 -20.42 181.96 649   4.0 11      \n",
              "6 -19.68 184.31 195   4.0 12      "
            ]
          },
          "metadata": {}
        }
      ]
    },
    {
      "cell_type": "code",
      "source": [
        "print(IQR(quakes$depth))"
      ],
      "metadata": {
        "colab": {
          "base_uri": "https://localhost:8080/"
        },
        "id": "obykE5F228n7",
        "outputId": "32374afa-bdb6-4401-acc5-ce5a3504a078"
      },
      "execution_count": null,
      "outputs": [
        {
          "output_type": "stream",
          "name": "stdout",
          "text": [
            "[1] 444\n"
          ]
        }
      ]
    },
    {
      "cell_type": "markdown",
      "source": [
        "2.\tFind the five-number summary of all magnitudes of seismic events that occur at a depth of 400 km or deeper. Compare this to the summary values found in Section 13.2.3 of those events occurring at less than 400 km and briefly comment on what you notice."
      ],
      "metadata": {
        "id": "swlyNbZ12IqD"
      }
    },
    {
      "cell_type": "code",
      "source": [
        "summary(quakes$mag[quakes$depth >= 400])"
      ],
      "metadata": {
        "colab": {
          "base_uri": "https://localhost:8080/",
          "height": 52
        },
        "id": "dRFZsj7C2Mzs",
        "outputId": "384b57da-e9aa-4425-e4a0-6e6f44d53ddf"
      },
      "execution_count": null,
      "outputs": [
        {
          "output_type": "display_data",
          "data": {
            "text/plain": [
              "   Min. 1st Qu.  Median    Mean 3rd Qu.    Max. \n",
              "  4.000   4.200   4.500   4.545   4.700   5.900 "
            ]
          },
          "metadata": {}
        }
      ]
    },
    {
      "cell_type": "markdown",
      "source": [
        "3.\tUse your knowledge of cut to create a new factor vector called depthcat that identifies four evenly spaced categories of quakes$depth so that when you use levels (dept heat), it gives the following:\n",
        "\n",
        "    (a)\tR> levels(depthcat)\n",
        "\n",
        "    (b)\t[1] \"[40,200)\" \"[200,360)\" \"[360,520)\" \"[520,680]\"\n"
      ],
      "metadata": {
        "id": "7yqyymFh2OQY"
      }
    },
    {
      "cell_type": "code",
      "source": [
        "# Generate evenly spaced breaks\n",
        "breaks <- seq(min(quakes$depth), max(quakes$depth) + 1, length.out = 5)\n",
        "\n",
        "# Create depthcat variable\n",
        "depthcat <- cut(quakes$depth, breaks = breaks, labels = FALSE, include.lowest = TRUE)\n",
        "\n",
        "# Convert depthcat to factor with desired labels\n",
        "depthcat <- factor(depthcat, labels = c(\"[40,200)\", \"[200,360)\", \"[360,520)\", \"[520,680]\"))\n",
        "\n",
        "# Check levels\n",
        "levels(depthcat)\n"
      ],
      "metadata": {
        "colab": {
          "base_uri": "https://localhost:8080/",
          "height": 34
        },
        "id": "tcTr03Qz2oug",
        "outputId": "df76ed03-9980-4f90-eaaa-a41ff3ffeb5e"
      },
      "execution_count": null,
      "outputs": [
        {
          "output_type": "display_data",
          "data": {
            "text/html": [
              "<style>\n",
              ".list-inline {list-style: none; margin:0; padding: 0}\n",
              ".list-inline>li {display: inline-block}\n",
              ".list-inline>li:not(:last-child)::after {content: \"\\00b7\"; padding: 0 .5ex}\n",
              "</style>\n",
              "<ol class=list-inline><li>'[40,200)'</li><li>'[200,360)'</li><li>'[360,520)'</li><li>'[520,680]'</li></ol>\n"
            ],
            "text/markdown": "1. '[40,200)'\n2. '[200,360)'\n3. '[360,520)'\n4. '[520,680]'\n\n\n",
            "text/latex": "\\begin{enumerate*}\n\\item '{[}40,200)'\n\\item '{[}200,360)'\n\\item '{[}360,520)'\n\\item '{[}520,680{]}'\n\\end{enumerate*}\n",
            "text/plain": [
              "[1] \"[40,200)\"  \"[200,360)\" \"[360,520)\" \"[520,680]\""
            ]
          },
          "metadata": {}
        }
      ]
    },
    {
      "cell_type": "markdown",
      "source": [
        "4. Find the sample mean and standard deviation of the magnitudes of the events associated with each category of depth according to depthcat."
      ],
      "metadata": {
        "id": "-b8ISqvc2p5j"
      }
    },
    {
      "cell_type": "code",
      "source": [
        "# Calculate sample mean and standard deviation of magnitudes by depth category\n",
        "mean_by_depthcat <- tapply(quakes$mag, INDEX = depthcat, FUN = mean)\n",
        "sd_by_depthcat <- tapply(quakes$mag, INDEX = depthcat, FUN = sd)\n",
        "\n",
        "print(mean_by_depthcat)\n",
        "print(sd_by_depthcat)"
      ],
      "metadata": {
        "colab": {
          "base_uri": "https://localhost:8080/"
        },
        "id": "ALHbp1Mm2vLB",
        "outputId": "27a30dda-d375-429e-8287-64c45033b4e0"
      },
      "execution_count": null,
      "outputs": [
        {
          "output_type": "stream",
          "name": "stdout",
          "text": [
            " [40,200) [200,360) [360,520) [520,680] \n",
            " 4.735885  4.548428  4.499200  4.547651 \n",
            " [40,200) [200,360) [360,520) [520,680] \n",
            "0.4038238 0.3783467 0.3617823 0.3909901 \n"
          ]
        }
      ]
    },
    {
      "cell_type": "markdown",
      "source": [
        "5. Use tapply to compute the 0.8th quantile of the magnitudes of the seismic events in quakes, split by depthcat."
      ],
      "metadata": {
        "id": "c9UML1b12v4L"
      }
    },
    {
      "cell_type": "code",
      "source": [
        "quant_quake <- tapply(quakes$mag, INDEX = depthcat, FUN = function(x) quantile(x, probs = 0.8))\n",
        "print(quant_quake)"
      ],
      "metadata": {
        "colab": {
          "base_uri": "https://localhost:8080/"
        },
        "id": "cSZq8vWU20FH",
        "outputId": "a30c34bb-f980-4da0-bedb-e988191db361"
      },
      "execution_count": null,
      "outputs": [
        {
          "output_type": "stream",
          "name": "stdout",
          "text": [
            " [40,200) [200,360) [360,520) [520,680] \n",
            "      5.1       4.8       4.8       4.9 \n"
          ]
        }
      ]
    }
  ]
}